{
  "nbformat": 4,
  "nbformat_minor": 0,
  "metadata": {
    "colab": {
      "provenance": [],
      "authorship_tag": "ABX9TyOdRSMQuYX4NkiwJbvWA6wZ",
      "include_colab_link": true
    },
    "kernelspec": {
      "name": "python3",
      "display_name": "Python 3"
    },
    "language_info": {
      "name": "python"
    }
  },
  "cells": [
    {
      "cell_type": "markdown",
      "metadata": {
        "id": "view-in-github",
        "colab_type": "text"
      },
      "source": [
        "<a href=\"https://colab.research.google.com/github/Sofil1886/Deep_Portfolio_Theory/blob/master/%D0%9C%D0%B0%D0%BD%D0%B0%D0%B5%D0%B2_%D0%BF%D1%80%D0%BE%D0%B5%D0%BA%D1%82.ipynb\" target=\"_parent\"><img src=\"https://colab.research.google.com/assets/colab-badge.svg\" alt=\"Open In Colab\"/></a>"
      ]
    },
    {
      "cell_type": "code",
      "execution_count": 1,
      "metadata": {
        "colab": {
          "base_uri": "https://localhost:8080/",
          "height": 1000
        },
        "id": "Uxfh5OieIFnS",
        "outputId": "77133792-debe-49b2-d998-76e4fab1f62e"
      },
      "outputs": [
        {
          "output_type": "stream",
          "name": "stdout",
          "text": [
            "Looking in indexes: https://pypi.org/simple, https://us-python.pkg.dev/colab-wheels/public/simple/\n",
            "Collecting Nasdaq-Data-Link\n",
            "  Downloading Nasdaq_Data_Link-1.0.4-py2.py3-none-any.whl (28 kB)\n",
            "Requirement already satisfied: pandas>=0.14 in /usr/local/lib/python3.7/dist-packages (from Nasdaq-Data-Link) (1.3.5)\n",
            "Collecting inflection>=0.3.1\n",
            "  Downloading inflection-0.5.1-py2.py3-none-any.whl (9.5 kB)\n",
            "Requirement already satisfied: python-dateutil in /usr/local/lib/python3.7/dist-packages (from Nasdaq-Data-Link) (2.8.2)\n",
            "Requirement already satisfied: six in /usr/local/lib/python3.7/dist-packages (from Nasdaq-Data-Link) (1.15.0)\n",
            "Requirement already satisfied: more-itertools in /usr/local/lib/python3.7/dist-packages (from Nasdaq-Data-Link) (9.0.0)\n",
            "Requirement already satisfied: numpy>=1.8 in /usr/local/lib/python3.7/dist-packages (from Nasdaq-Data-Link) (1.21.6)\n",
            "Requirement already satisfied: requests>=2.7.0 in /usr/local/lib/python3.7/dist-packages (from Nasdaq-Data-Link) (2.23.0)\n",
            "Requirement already satisfied: pytz>=2017.3 in /usr/local/lib/python3.7/dist-packages (from pandas>=0.14->Nasdaq-Data-Link) (2022.5)\n",
            "Requirement already satisfied: chardet<4,>=3.0.2 in /usr/local/lib/python3.7/dist-packages (from requests>=2.7.0->Nasdaq-Data-Link) (3.0.4)\n",
            "Requirement already satisfied: idna<3,>=2.5 in /usr/local/lib/python3.7/dist-packages (from requests>=2.7.0->Nasdaq-Data-Link) (2.10)\n",
            "Requirement already satisfied: urllib3!=1.25.0,!=1.25.1,<1.26,>=1.21.1 in /usr/local/lib/python3.7/dist-packages (from requests>=2.7.0->Nasdaq-Data-Link) (1.24.3)\n",
            "Requirement already satisfied: certifi>=2017.4.17 in /usr/local/lib/python3.7/dist-packages (from requests>=2.7.0->Nasdaq-Data-Link) (2022.9.24)\n",
            "Installing collected packages: inflection, Nasdaq-Data-Link\n",
            "Successfully installed Nasdaq-Data-Link-1.0.4 inflection-0.5.1\n",
            "Looking in indexes: https://pypi.org/simple, https://us-python.pkg.dev/colab-wheels/public/simple/\n",
            "Collecting yfinance\n",
            "  Downloading yfinance-0.1.85-py2.py3-none-any.whl (29 kB)\n",
            "Requirement already satisfied: appdirs>=1.4.4 in /usr/local/lib/python3.7/dist-packages (from yfinance) (1.4.4)\n",
            "Requirement already satisfied: pandas>=0.24.0 in /usr/local/lib/python3.7/dist-packages (from yfinance) (1.3.5)\n",
            "Collecting requests>=2.26\n",
            "  Downloading requests-2.28.1-py3-none-any.whl (62 kB)\n",
            "\u001b[K     |████████████████████████████████| 62 kB 1.1 MB/s \n",
            "\u001b[?25hRequirement already satisfied: lxml>=4.5.1 in /usr/local/lib/python3.7/dist-packages (from yfinance) (4.9.1)\n",
            "Requirement already satisfied: numpy>=1.15 in /usr/local/lib/python3.7/dist-packages (from yfinance) (1.21.6)\n",
            "Requirement already satisfied: multitasking>=0.0.7 in /usr/local/lib/python3.7/dist-packages (from yfinance) (0.0.11)\n",
            "Requirement already satisfied: python-dateutil>=2.7.3 in /usr/local/lib/python3.7/dist-packages (from pandas>=0.24.0->yfinance) (2.8.2)\n",
            "Requirement already satisfied: pytz>=2017.3 in /usr/local/lib/python3.7/dist-packages (from pandas>=0.24.0->yfinance) (2022.5)\n",
            "Requirement already satisfied: six>=1.5 in /usr/local/lib/python3.7/dist-packages (from python-dateutil>=2.7.3->pandas>=0.24.0->yfinance) (1.15.0)\n",
            "Requirement already satisfied: urllib3<1.27,>=1.21.1 in /usr/local/lib/python3.7/dist-packages (from requests>=2.26->yfinance) (1.24.3)\n",
            "Requirement already satisfied: certifi>=2017.4.17 in /usr/local/lib/python3.7/dist-packages (from requests>=2.26->yfinance) (2022.9.24)\n",
            "Requirement already satisfied: idna<4,>=2.5 in /usr/local/lib/python3.7/dist-packages (from requests>=2.26->yfinance) (2.10)\n",
            "Requirement already satisfied: charset-normalizer<3,>=2 in /usr/local/lib/python3.7/dist-packages (from requests>=2.26->yfinance) (2.1.1)\n",
            "Installing collected packages: requests, yfinance\n",
            "  Attempting uninstall: requests\n",
            "    Found existing installation: requests 2.23.0\n",
            "    Uninstalling requests-2.23.0:\n",
            "      Successfully uninstalled requests-2.23.0\n",
            "Successfully installed requests-2.28.1 yfinance-0.1.85\n",
            "Looking in indexes: https://pypi.org/simple, https://us-python.pkg.dev/colab-wheels/public/simple/\n",
            "Collecting talib-binary\n",
            "  Downloading talib_binary-0.4.19-cp37-cp37m-manylinux1_x86_64.whl (2.4 MB)\n",
            "\u001b[K     |████████████████████████████████| 2.4 MB 5.1 MB/s \n",
            "\u001b[?25hRequirement already satisfied: numpy in /usr/local/lib/python3.7/dist-packages (from talib-binary) (1.21.6)\n",
            "Installing collected packages: talib-binary\n",
            "Successfully installed talib-binary-0.4.19\n",
            "Looking in indexes: https://pypi.org/simple, https://us-python.pkg.dev/colab-wheels/public/simple/\n",
            "Collecting pyts\n",
            "  Downloading pyts-0.12.0-py3-none-any.whl (2.5 MB)\n",
            "\u001b[K     |████████████████████████████████| 2.5 MB 4.8 MB/s \n",
            "\u001b[?25hRequirement already satisfied: numpy>=1.17.5 in /usr/local/lib/python3.7/dist-packages (from pyts) (1.21.6)\n",
            "Requirement already satisfied: scipy>=1.3.0 in /usr/local/lib/python3.7/dist-packages (from pyts) (1.7.3)\n",
            "Requirement already satisfied: joblib>=0.12 in /usr/local/lib/python3.7/dist-packages (from pyts) (1.2.0)\n",
            "Requirement already satisfied: numba>=0.48.0 in /usr/local/lib/python3.7/dist-packages (from pyts) (0.56.3)\n",
            "Requirement already satisfied: scikit-learn>=0.22.1 in /usr/local/lib/python3.7/dist-packages (from pyts) (1.0.2)\n",
            "Requirement already satisfied: llvmlite<0.40,>=0.39.0dev0 in /usr/local/lib/python3.7/dist-packages (from numba>=0.48.0->pyts) (0.39.1)\n",
            "Requirement already satisfied: setuptools in /usr/local/lib/python3.7/dist-packages (from numba>=0.48.0->pyts) (57.4.0)\n",
            "Requirement already satisfied: importlib-metadata in /usr/local/lib/python3.7/dist-packages (from numba>=0.48.0->pyts) (4.13.0)\n",
            "Requirement already satisfied: threadpoolctl>=2.0.0 in /usr/local/lib/python3.7/dist-packages (from scikit-learn>=0.22.1->pyts) (3.1.0)\n",
            "Requirement already satisfied: typing-extensions>=3.6.4 in /usr/local/lib/python3.7/dist-packages (from importlib-metadata->numba>=0.48.0->pyts) (4.1.1)\n",
            "Requirement already satisfied: zipp>=0.5 in /usr/local/lib/python3.7/dist-packages (from importlib-metadata->numba>=0.48.0->pyts) (3.10.0)\n",
            "Installing collected packages: pyts\n",
            "Successfully installed pyts-0.12.0\n",
            "Looking in indexes: https://pypi.org/simple, https://us-python.pkg.dev/colab-wheels/public/simple/\n",
            "Collecting mplfinance\n",
            "  Downloading mplfinance-0.12.9b5-py3-none-any.whl (71 kB)\n",
            "\u001b[K     |████████████████████████████████| 71 kB 3.5 MB/s \n",
            "\u001b[?25hRequirement already satisfied: pandas in /usr/local/lib/python3.7/dist-packages (from mplfinance) (1.3.5)\n",
            "Requirement already satisfied: matplotlib in /usr/local/lib/python3.7/dist-packages (from mplfinance) (3.2.2)\n",
            "Requirement already satisfied: kiwisolver>=1.0.1 in /usr/local/lib/python3.7/dist-packages (from matplotlib->mplfinance) (1.4.4)\n",
            "Requirement already satisfied: numpy>=1.11 in /usr/local/lib/python3.7/dist-packages (from matplotlib->mplfinance) (1.21.6)\n",
            "Requirement already satisfied: python-dateutil>=2.1 in /usr/local/lib/python3.7/dist-packages (from matplotlib->mplfinance) (2.8.2)\n",
            "Requirement already satisfied: pyparsing!=2.0.4,!=2.1.2,!=2.1.6,>=2.0.1 in /usr/local/lib/python3.7/dist-packages (from matplotlib->mplfinance) (3.0.9)\n",
            "Requirement already satisfied: cycler>=0.10 in /usr/local/lib/python3.7/dist-packages (from matplotlib->mplfinance) (0.11.0)\n",
            "Requirement already satisfied: typing-extensions in /usr/local/lib/python3.7/dist-packages (from kiwisolver>=1.0.1->matplotlib->mplfinance) (4.1.1)\n",
            "Requirement already satisfied: six>=1.5 in /usr/local/lib/python3.7/dist-packages (from python-dateutil>=2.1->matplotlib->mplfinance) (1.15.0)\n",
            "Requirement already satisfied: pytz>=2017.3 in /usr/local/lib/python3.7/dist-packages (from pandas->mplfinance) (2022.5)\n",
            "Installing collected packages: mplfinance\n",
            "Successfully installed mplfinance-0.12.9b5\n",
            "Looking in indexes: https://pypi.org/simple, https://us-python.pkg.dev/colab-wheels/public/simple/\n",
            "Collecting image_slicer\n",
            "  Downloading image_slicer-2.1.1-py2.py3-none-any.whl (8.3 kB)\n",
            "Collecting Pillow==7.2.0\n",
            "  Downloading Pillow-7.2.0-cp37-cp37m-manylinux1_x86_64.whl (2.2 MB)\n",
            "\u001b[K     |████████████████████████████████| 2.2 MB 5.4 MB/s \n",
            "\u001b[?25hInstalling collected packages: Pillow, image-slicer\n",
            "  Attempting uninstall: Pillow\n",
            "    Found existing installation: Pillow 7.1.2\n",
            "    Uninstalling Pillow-7.1.2:\n",
            "      Successfully uninstalled Pillow-7.1.2\n",
            "Successfully installed Pillow-7.2.0 image-slicer-2.1.1\n"
          ]
        },
        {
          "output_type": "display_data",
          "data": {
            "application/vnd.colab-display-data+json": {
              "pip_warning": {
                "packages": [
                  "PIL"
                ]
              }
            }
          },
          "metadata": {}
        },
        {
          "output_type": "stream",
          "name": "stdout",
          "text": [
            "Looking in indexes: https://pypi.org/simple, https://us-python.pkg.dev/colab-wheels/public/simple/\n",
            "Collecting pypng\n",
            "  Downloading pypng-0.20220715.0-py3-none-any.whl (58 kB)\n",
            "\u001b[K     |████████████████████████████████| 58 kB 3.0 MB/s \n",
            "\u001b[?25hInstalling collected packages: pypng\n",
            "Successfully installed pypng-0.20220715.0\n",
            "Looking in indexes: https://pypi.org/simple, https://us-python.pkg.dev/colab-wheels/public/simple/\n",
            "Requirement already satisfied: Pillow in /usr/local/lib/python3.7/dist-packages (7.2.0)\n",
            "Looking in indexes: https://pypi.org/simple, https://us-python.pkg.dev/colab-wheels/public/simple/\n",
            "Requirement already satisfied: natsort in /usr/local/lib/python3.7/dist-packages (5.5.0)\n",
            "Looking in indexes: https://pypi.org/simple, https://us-python.pkg.dev/colab-wheels/public/simple/\n",
            "\u001b[31mERROR: Could not find a version that satisfies the requirement shutil (from versions: none)\u001b[0m\n",
            "\u001b[31mERROR: No matching distribution found for shutil\u001b[0m\n"
          ]
        }
      ],
      "source": [
        "!pip install Nasdaq-Data-Link\n",
        "!pip install yfinance\n",
        "!pip install talib-binary\n",
        "\n",
        "!pip install pyts\n",
        "!pip install mplfinance\n",
        "!pip install image_slicer\n",
        "!pip install pypng\n",
        "!pip install Pillow\n",
        "!pip install natsort\n",
        "\n",
        "!pip install shutil"
      ]
    },
    {
      "cell_type": "code",
      "source": [
        "import pandas as pd\n",
        "from pandas.tseries.holiday import USFederalHolidayCalendar as calendar\n",
        "\n",
        "import nasdaqdatalink\n",
        "import talib\n",
        "import pandas_datareader as pdr\n",
        "import datetime\n",
        "import plotly.express as px\n",
        "import yfinance as yf\n",
        "import numpy as np\n",
        "import matplotlib.pyplot as plt\n",
        "from tensorflow import keras\n",
        "from sklearn.preprocessing import MinMaxScaler\n",
        "from keras.models import Sequential\n",
        "from keras.layers import Dense\n",
        "from keras.layers import LSTM\n",
        "from keras.layers import Dropout\n",
        "from keras.models import Sequential\n",
        "from keras.layers.core import Dense, Dropout, Activation, Flatten\n",
        "from tensorflow.keras.layers import BatchNormalization\n",
        "from keras.callbacks import ModelCheckpoint, ReduceLROnPlateau, CSVLogger, EarlyStopping\n",
        "from tensorflow.keras.optimizers import RMSprop, Adam, SGD, Nadam\n",
        "from keras import regularizers\n",
        "import tensorflow as tf\n",
        "from tensorflow.keras import layers\n",
        "from sklearn.preprocessing import StandardScaler\n",
        "from tensorflow.keras.losses import categorical_crossentropy\n",
        "from keras.models import Model\n",
        "from sklearn.model_selection import train_test_split\n",
        "from dateutil.parser import parse as du_parse\n",
        "from dateutil.relativedelta import relativedelta\n",
        "import scipy.stats as stats\n",
        "from keras.utils import np_utils\n",
        "from  keras.models import load_model\n",
        "from keras.utils.vis_utils import plot_model\n",
        "from keras.models import model_from_json\n",
        "\n",
        "import mplfinance as mpf\n",
        "from pyts.datasets import load_gunpoint\n",
        "from pyts.image import RecurrencePlot\n",
        "from IPython.display import Image\n",
        "from PIL import Image\n",
        "import image_slicer\n",
        "import imageio\n",
        "import png\n",
        "\n",
        "import natsort \n",
        "import os\n",
        "import glob\n",
        "from numpy import asarray\n",
        "\n",
        "import shutil"
      ],
      "metadata": {
        "id": "o6lV_K3OWcG9"
      },
      "execution_count": 135,
      "outputs": []
    },
    {
      "cell_type": "code",
      "source": [
        "nvda = yf.download('NVDA')\n",
        "nvda['Date'] = nvda.index\n",
        "nvda['SMA'] = talib.MA(nvda['Adj Close'], timeperiod = 20)\n",
        "nvda = nvda.dropna()\n",
        "nvda"
      ],
      "metadata": {
        "colab": {
          "base_uri": "https://localhost:8080/",
          "height": 472
        },
        "id": "hB3P9ET0I2xT",
        "outputId": "1abf6032-38a8-4d06-f8a3-45b0c1d5246e"
      },
      "execution_count": 3,
      "outputs": [
        {
          "output_type": "stream",
          "name": "stdout",
          "text": [
            "\r[*********************100%***********************]  1 of 1 completed\n"
          ]
        },
        {
          "output_type": "execute_result",
          "data": {
            "text/plain": [
              "                  Open        High         Low       Close   Adj Close  \\\n",
              "Date                                                                     \n",
              "1999-02-19    0.416667    0.442708    0.411458    0.434896    0.399229   \n",
              "1999-02-22    0.442708    0.447917    0.414063    0.437500    0.401619   \n",
              "1999-02-23    0.447917    0.467448    0.421875    0.458333    0.420744   \n",
              "1999-02-24    0.526042    0.546875    0.483073    0.494792    0.454213   \n",
              "1999-02-25    0.515625    0.531250    0.471354    0.479167    0.439869   \n",
              "...                ...         ...         ...         ...         ...   \n",
              "2022-11-01  138.110001  139.250000  135.190002  135.429993  135.429993   \n",
              "2022-11-02  138.500000  142.100006  132.110001  132.190002  132.190002   \n",
              "2022-11-03  130.429993  137.809998  129.559998  134.210007  134.210007   \n",
              "2022-11-04  139.860001  142.289993  136.970001  141.559998  141.559998   \n",
              "2022-11-07  142.279999  142.970001  139.539993  141.660004  141.660004   \n",
              "\n",
              "                Volume       Date         SMA  \n",
              "Date                                           \n",
              "1999-02-19   7536000.0 1999-02-19    0.376040  \n",
              "1999-02-22  20524800.0 1999-02-22    0.377295  \n",
              "1999-02-23  13809600.0 1999-02-23    0.377534  \n",
              "1999-02-24  61276800.0 1999-02-24    0.381060  \n",
              "1999-02-25  14913600.0 1999-02-25    0.383929  \n",
              "...                ...        ...         ...  \n",
              "2022-11-01  43281700.0 2022-11-01  124.864999  \n",
              "2022-11-02  67262800.0 2022-11-02  124.870000  \n",
              "2022-11-03  50006500.0 2022-11-03  125.015500  \n",
              "2022-11-04  61205400.0 2022-11-04  126.055500  \n",
              "2022-11-07  23864661.0 2022-11-07  127.303500  \n",
              "\n",
              "[5970 rows x 8 columns]"
            ],
            "text/html": [
              "\n",
              "  <div id=\"df-7c46a85b-998d-46d3-9982-365fc55135b2\">\n",
              "    <div class=\"colab-df-container\">\n",
              "      <div>\n",
              "<style scoped>\n",
              "    .dataframe tbody tr th:only-of-type {\n",
              "        vertical-align: middle;\n",
              "    }\n",
              "\n",
              "    .dataframe tbody tr th {\n",
              "        vertical-align: top;\n",
              "    }\n",
              "\n",
              "    .dataframe thead th {\n",
              "        text-align: right;\n",
              "    }\n",
              "</style>\n",
              "<table border=\"1\" class=\"dataframe\">\n",
              "  <thead>\n",
              "    <tr style=\"text-align: right;\">\n",
              "      <th></th>\n",
              "      <th>Open</th>\n",
              "      <th>High</th>\n",
              "      <th>Low</th>\n",
              "      <th>Close</th>\n",
              "      <th>Adj Close</th>\n",
              "      <th>Volume</th>\n",
              "      <th>Date</th>\n",
              "      <th>SMA</th>\n",
              "    </tr>\n",
              "    <tr>\n",
              "      <th>Date</th>\n",
              "      <th></th>\n",
              "      <th></th>\n",
              "      <th></th>\n",
              "      <th></th>\n",
              "      <th></th>\n",
              "      <th></th>\n",
              "      <th></th>\n",
              "      <th></th>\n",
              "    </tr>\n",
              "  </thead>\n",
              "  <tbody>\n",
              "    <tr>\n",
              "      <th>1999-02-19</th>\n",
              "      <td>0.416667</td>\n",
              "      <td>0.442708</td>\n",
              "      <td>0.411458</td>\n",
              "      <td>0.434896</td>\n",
              "      <td>0.399229</td>\n",
              "      <td>7536000.0</td>\n",
              "      <td>1999-02-19</td>\n",
              "      <td>0.376040</td>\n",
              "    </tr>\n",
              "    <tr>\n",
              "      <th>1999-02-22</th>\n",
              "      <td>0.442708</td>\n",
              "      <td>0.447917</td>\n",
              "      <td>0.414063</td>\n",
              "      <td>0.437500</td>\n",
              "      <td>0.401619</td>\n",
              "      <td>20524800.0</td>\n",
              "      <td>1999-02-22</td>\n",
              "      <td>0.377295</td>\n",
              "    </tr>\n",
              "    <tr>\n",
              "      <th>1999-02-23</th>\n",
              "      <td>0.447917</td>\n",
              "      <td>0.467448</td>\n",
              "      <td>0.421875</td>\n",
              "      <td>0.458333</td>\n",
              "      <td>0.420744</td>\n",
              "      <td>13809600.0</td>\n",
              "      <td>1999-02-23</td>\n",
              "      <td>0.377534</td>\n",
              "    </tr>\n",
              "    <tr>\n",
              "      <th>1999-02-24</th>\n",
              "      <td>0.526042</td>\n",
              "      <td>0.546875</td>\n",
              "      <td>0.483073</td>\n",
              "      <td>0.494792</td>\n",
              "      <td>0.454213</td>\n",
              "      <td>61276800.0</td>\n",
              "      <td>1999-02-24</td>\n",
              "      <td>0.381060</td>\n",
              "    </tr>\n",
              "    <tr>\n",
              "      <th>1999-02-25</th>\n",
              "      <td>0.515625</td>\n",
              "      <td>0.531250</td>\n",
              "      <td>0.471354</td>\n",
              "      <td>0.479167</td>\n",
              "      <td>0.439869</td>\n",
              "      <td>14913600.0</td>\n",
              "      <td>1999-02-25</td>\n",
              "      <td>0.383929</td>\n",
              "    </tr>\n",
              "    <tr>\n",
              "      <th>...</th>\n",
              "      <td>...</td>\n",
              "      <td>...</td>\n",
              "      <td>...</td>\n",
              "      <td>...</td>\n",
              "      <td>...</td>\n",
              "      <td>...</td>\n",
              "      <td>...</td>\n",
              "      <td>...</td>\n",
              "    </tr>\n",
              "    <tr>\n",
              "      <th>2022-11-01</th>\n",
              "      <td>138.110001</td>\n",
              "      <td>139.250000</td>\n",
              "      <td>135.190002</td>\n",
              "      <td>135.429993</td>\n",
              "      <td>135.429993</td>\n",
              "      <td>43281700.0</td>\n",
              "      <td>2022-11-01</td>\n",
              "      <td>124.864999</td>\n",
              "    </tr>\n",
              "    <tr>\n",
              "      <th>2022-11-02</th>\n",
              "      <td>138.500000</td>\n",
              "      <td>142.100006</td>\n",
              "      <td>132.110001</td>\n",
              "      <td>132.190002</td>\n",
              "      <td>132.190002</td>\n",
              "      <td>67262800.0</td>\n",
              "      <td>2022-11-02</td>\n",
              "      <td>124.870000</td>\n",
              "    </tr>\n",
              "    <tr>\n",
              "      <th>2022-11-03</th>\n",
              "      <td>130.429993</td>\n",
              "      <td>137.809998</td>\n",
              "      <td>129.559998</td>\n",
              "      <td>134.210007</td>\n",
              "      <td>134.210007</td>\n",
              "      <td>50006500.0</td>\n",
              "      <td>2022-11-03</td>\n",
              "      <td>125.015500</td>\n",
              "    </tr>\n",
              "    <tr>\n",
              "      <th>2022-11-04</th>\n",
              "      <td>139.860001</td>\n",
              "      <td>142.289993</td>\n",
              "      <td>136.970001</td>\n",
              "      <td>141.559998</td>\n",
              "      <td>141.559998</td>\n",
              "      <td>61205400.0</td>\n",
              "      <td>2022-11-04</td>\n",
              "      <td>126.055500</td>\n",
              "    </tr>\n",
              "    <tr>\n",
              "      <th>2022-11-07</th>\n",
              "      <td>142.279999</td>\n",
              "      <td>142.970001</td>\n",
              "      <td>139.539993</td>\n",
              "      <td>141.660004</td>\n",
              "      <td>141.660004</td>\n",
              "      <td>23864661.0</td>\n",
              "      <td>2022-11-07</td>\n",
              "      <td>127.303500</td>\n",
              "    </tr>\n",
              "  </tbody>\n",
              "</table>\n",
              "<p>5970 rows × 8 columns</p>\n",
              "</div>\n",
              "      <button class=\"colab-df-convert\" onclick=\"convertToInteractive('df-7c46a85b-998d-46d3-9982-365fc55135b2')\"\n",
              "              title=\"Convert this dataframe to an interactive table.\"\n",
              "              style=\"display:none;\">\n",
              "        \n",
              "  <svg xmlns=\"http://www.w3.org/2000/svg\" height=\"24px\"viewBox=\"0 0 24 24\"\n",
              "       width=\"24px\">\n",
              "    <path d=\"M0 0h24v24H0V0z\" fill=\"none\"/>\n",
              "    <path d=\"M18.56 5.44l.94 2.06.94-2.06 2.06-.94-2.06-.94-.94-2.06-.94 2.06-2.06.94zm-11 1L8.5 8.5l.94-2.06 2.06-.94-2.06-.94L8.5 2.5l-.94 2.06-2.06.94zm10 10l.94 2.06.94-2.06 2.06-.94-2.06-.94-.94-2.06-.94 2.06-2.06.94z\"/><path d=\"M17.41 7.96l-1.37-1.37c-.4-.4-.92-.59-1.43-.59-.52 0-1.04.2-1.43.59L10.3 9.45l-7.72 7.72c-.78.78-.78 2.05 0 2.83L4 21.41c.39.39.9.59 1.41.59.51 0 1.02-.2 1.41-.59l7.78-7.78 2.81-2.81c.8-.78.8-2.07 0-2.86zM5.41 20L4 18.59l7.72-7.72 1.47 1.35L5.41 20z\"/>\n",
              "  </svg>\n",
              "      </button>\n",
              "      \n",
              "  <style>\n",
              "    .colab-df-container {\n",
              "      display:flex;\n",
              "      flex-wrap:wrap;\n",
              "      gap: 12px;\n",
              "    }\n",
              "\n",
              "    .colab-df-convert {\n",
              "      background-color: #E8F0FE;\n",
              "      border: none;\n",
              "      border-radius: 50%;\n",
              "      cursor: pointer;\n",
              "      display: none;\n",
              "      fill: #1967D2;\n",
              "      height: 32px;\n",
              "      padding: 0 0 0 0;\n",
              "      width: 32px;\n",
              "    }\n",
              "\n",
              "    .colab-df-convert:hover {\n",
              "      background-color: #E2EBFA;\n",
              "      box-shadow: 0px 1px 2px rgba(60, 64, 67, 0.3), 0px 1px 3px 1px rgba(60, 64, 67, 0.15);\n",
              "      fill: #174EA6;\n",
              "    }\n",
              "\n",
              "    [theme=dark] .colab-df-convert {\n",
              "      background-color: #3B4455;\n",
              "      fill: #D2E3FC;\n",
              "    }\n",
              "\n",
              "    [theme=dark] .colab-df-convert:hover {\n",
              "      background-color: #434B5C;\n",
              "      box-shadow: 0px 1px 3px 1px rgba(0, 0, 0, 0.15);\n",
              "      filter: drop-shadow(0px 1px 2px rgba(0, 0, 0, 0.3));\n",
              "      fill: #FFFFFF;\n",
              "    }\n",
              "  </style>\n",
              "\n",
              "      <script>\n",
              "        const buttonEl =\n",
              "          document.querySelector('#df-7c46a85b-998d-46d3-9982-365fc55135b2 button.colab-df-convert');\n",
              "        buttonEl.style.display =\n",
              "          google.colab.kernel.accessAllowed ? 'block' : 'none';\n",
              "\n",
              "        async function convertToInteractive(key) {\n",
              "          const element = document.querySelector('#df-7c46a85b-998d-46d3-9982-365fc55135b2');\n",
              "          const dataTable =\n",
              "            await google.colab.kernel.invokeFunction('convertToInteractive',\n",
              "                                                     [key], {});\n",
              "          if (!dataTable) return;\n",
              "\n",
              "          const docLinkHtml = 'Like what you see? Visit the ' +\n",
              "            '<a target=\"_blank\" href=https://colab.research.google.com/notebooks/data_table.ipynb>data table notebook</a>'\n",
              "            + ' to learn more about interactive tables.';\n",
              "          element.innerHTML = '';\n",
              "          dataTable['output_type'] = 'display_data';\n",
              "          await google.colab.output.renderOutput(dataTable, element);\n",
              "          const docLink = document.createElement('div');\n",
              "          docLink.innerHTML = docLinkHtml;\n",
              "          element.appendChild(docLink);\n",
              "        }\n",
              "      </script>\n",
              "    </div>\n",
              "  </div>\n",
              "  "
            ]
          },
          "metadata": {},
          "execution_count": 3
        }
      ]
    },
    {
      "cell_type": "code",
      "source": [
        "# !mkdir images\n",
        "!mkdir images_cropped\n",
        "!mkdir images_cropped_resized"
      ],
      "metadata": {
        "id": "h8Dypu0oPpBl"
      },
      "execution_count": 4,
      "outputs": []
    },
    {
      "cell_type": "code",
      "source": [
        "# Генерируем изображения или загружаем самостоятельно ранее сгенерируемые изображения\n",
        "n = 0\n",
        "for image_df in range(0,len(nvda), 20):\n",
        "  df_for_images = nvda.iloc[image_df:image_df+20]\n",
        "  mpf.plot(df_for_images, style = 'yahoo', tight_layout = True, volume = True, savefig=f'/content/images/{n}.png')\n",
        "  n+=1\n"
      ],
      "metadata": {
        "id": "6lfRhTN3LOOn"
      },
      "execution_count": null,
      "outputs": []
    },
    {
      "cell_type": "code",
      "source": [
        "# Обрезаем изображения\n",
        "def make_whit_black_image(img):\n",
        "  thresh = 200\n",
        "  fn = lambda x : 0 if x > thresh else 255\n",
        "  image_file = img.convert('L').point(fn, mode='1')\n",
        "  return image_file\n",
        "\n",
        "\n",
        "directory_path = '/content/content/images'\n",
        "n = 0\n",
        "for img_path in natsort.natsorted(glob.glob(os.path.join(directory_path, \"*.png\")), reverse=False):\n",
        "  img = Image.open(img_path)\n",
        "  img_w_b = make_whit_black_image(img)\n",
        "  img_w_b.crop((0, 0, 710, 507)).save(f'/content/images_cropped/{n}.png')\n",
        "  n += 1"
      ],
      "metadata": {
        "id": "BvXa_HfJSmv8"
      },
      "execution_count": 20,
      "outputs": []
    },
    {
      "cell_type": "code",
      "source": [
        "# Преобразуем изображение в нужный нам формат\n",
        "directory_path_2 = '/content/images_cropped'\n",
        "n = 0\n",
        "for img_path in natsort.natsorted(glob.glob(os.path.join(directory_path_2, \"*.png\")), reverse=False):\n",
        "  img = Image.open(img_path)\n",
        "  img_resized = img.resize((60, 64))\n",
        "  img_resized.save(f'/content/images_cropped_resized/{n}.png')\n",
        "  n += 1"
      ],
      "metadata": {
        "id": "-qtPjnUHoQDG"
      },
      "execution_count": 21,
      "outputs": []
    },
    {
      "cell_type": "code",
      "source": [
        "# Делаем Метки в качестве целевых переменных для обучения\n",
        "n = 0\n",
        "class_return = lambda x : 1 if x > 0 else 0\n",
        "returns = []\n",
        "for raw_label in range(20,len(nvda), 20):\n",
        "  try:\n",
        "    returns.append(nvda.iloc[raw_label:raw_label+5][['Close']].pct_change(4).dropna()['Close'][0])\n",
        "  except:\n",
        "    break\n",
        "labels = [class_return(x) for x in returns]\n",
        "labels_array = np.asarray(labels)\n",
        "print(np.count_nonzero(labels_array == 1))\n",
        "print(np.count_nonzero(labels_array == 0))"
      ],
      "metadata": {
        "colab": {
          "base_uri": "https://localhost:8080/"
        },
        "id": "cU0cHo97X8Fj",
        "outputId": "d00f0972-590c-45ce-f514-a6af92596aa5"
      },
      "execution_count": 22,
      "outputs": [
        {
          "output_type": "stream",
          "name": "stdout",
          "text": [
            "166\n",
            "132\n"
          ]
        }
      ]
    },
    {
      "cell_type": "code",
      "source": [
        "labels_array.shape"
      ],
      "metadata": {
        "colab": {
          "base_uri": "https://localhost:8080/"
        },
        "id": "Uka_FYv3z6zg",
        "outputId": "7c7e84c0-93f7-4f87-8924-daf19a84d377"
      },
      "execution_count": 23,
      "outputs": [
        {
          "output_type": "execute_result",
          "data": {
            "text/plain": [
              "(298,)"
            ]
          },
          "metadata": {},
          "execution_count": 23
        }
      ]
    },
    {
      "cell_type": "code",
      "source": [
        "# Преобразуем изображение в нужный нам формат\n",
        "directory_path_3 = '/content/images_cropped_resized'\n",
        "\n",
        "Data_array = np.empty((1, 64, 60))\n",
        "for img_path in natsort.natsorted(glob.glob(os.path.join(directory_path_3, \"*.png\")), reverse=False):\n",
        "  im_gray = np.array(Image.open(img_path).convert('L'))\n",
        "  im_gray_array = im_gray[np.newaxis]\n",
        "  Data_array = np.vstack((Data_array, im_gray_array))\n",
        "\n",
        "\n",
        "Final_array = Data_array[1:299]\n",
        "\n"
      ],
      "metadata": {
        "id": "chNgcKLV3xZH"
      },
      "execution_count": 24,
      "outputs": []
    },
    {
      "cell_type": "code",
      "source": [
        "print(Final_array.shape)\n",
        "print(labels_array.shape)"
      ],
      "metadata": {
        "colab": {
          "base_uri": "https://localhost:8080/"
        },
        "id": "3wLsPqBumuel",
        "outputId": "cf5bb11f-9996-47fb-ee86-d45ad7aeead6"
      },
      "execution_count": 25,
      "outputs": [
        {
          "output_type": "stream",
          "name": "stdout",
          "text": [
            "(298, 64, 60)\n",
            "(298,)\n"
          ]
        }
      ]
    },
    {
      "cell_type": "code",
      "source": [
        "labels_array_bin = np_utils.to_categorical(labels_array, num_classes = 2)"
      ],
      "metadata": {
        "id": "_lMJVxgi514T"
      },
      "execution_count": 26,
      "outputs": []
    },
    {
      "cell_type": "code",
      "source": [
        "# делим датасет на train, validation и test\n",
        "data_array_for_train_val = Final_array[:int(Final_array.shape[0]*0.5)]\n",
        "labels_array_bin_for_train_val = labels_array_bin[:int(labels_array_bin.shape[0]*0.5)]\n",
        "\n",
        "data_array_for_test = Final_array[int(Final_array.shape[0]*0.5):]\n",
        "labels_array_bin_for_test = labels_array_bin[int(labels_array_bin.shape[0]*0.5):]\n",
        "\n",
        "print(data_array_for_train_val.shape)\n",
        "print(labels_array_bin_for_train_val.shape)\n",
        "\n",
        "print(data_array_for_test.shape)\n",
        "print(labels_array_bin_for_test.shape)"
      ],
      "metadata": {
        "colab": {
          "base_uri": "https://localhost:8080/"
        },
        "id": "-8ecv96An6DR",
        "outputId": "64967a58-0e30-4b99-d920-730df0ed6583"
      },
      "execution_count": 27,
      "outputs": [
        {
          "output_type": "stream",
          "name": "stdout",
          "text": [
            "(149, 64, 60)\n",
            "(149, 2)\n",
            "(149, 64, 60)\n",
            "(149, 2)\n"
          ]
        }
      ]
    },
    {
      "cell_type": "code",
      "execution_count": 30,
      "metadata": {
        "colab": {
          "base_uri": "https://localhost:8080/"
        },
        "outputId": "0c3d187c-0dec-43da-8bd9-45ae2984f83d",
        "id": "7TVXgR9Y_umD"
      },
      "outputs": [
        {
          "output_type": "stream",
          "name": "stdout",
          "text": [
            "64\n",
            "60\n"
          ]
        }
      ],
      "source": [
        "img_rows = Final_array.shape[1]\n",
        "img_columns =  Final_array.shape[2]\n",
        "print(img_rows)\n",
        "print(img_columns)"
      ]
    },
    {
      "cell_type": "code",
      "source": [
        "opt = tf.keras.optimizers.Adam(learning_rate=1e-05)\n",
        "sgd = SGD(learning_rate=1e-05)\n",
        "weights_file = 'CNN_1_weights.h5'\n",
        "callback = ModelCheckpoint(weights_file,\n",
        "              monitor='val_accuracy',\n",
        "              mode='max',\n",
        "              save_best_only=True)\n",
        "es = EarlyStopping(monitor='val_loss', patience=2, verbose=1)\n",
        "\n",
        "CNN = Sequential()\n",
        "CNN.add(tf.keras.layers.Conv2D(64, (5,3), kernel_initializer='glorot_uniform', padding='same', strides = (3,1), dilation_rate=(1, 1), input_shape=(img_rows, img_columns, 1)))\n",
        "CNN.add(BatchNormalization())\n",
        "CNN.add(Activation('LeakyReLU'))\n",
        "CNN.add(tf.keras.layers.MaxPooling2D(pool_size=(2, 1)))\n",
        "CNN.add(tf.keras.layers.Conv2D(128, (5,3), kernel_initializer='glorot_uniform', padding='same', input_shape=(img_rows, img_columns, 1)))\n",
        "CNN.add(BatchNormalization())\n",
        "CNN.add(Activation('LeakyReLU'))\n",
        "\n",
        "CNN.add(tf.keras.layers.MaxPooling2D(pool_size=(2, 1)))\n",
        "CNN.add(tf.keras.layers.Conv2D(256, (5,3), kernel_initializer='glorot_uniform', padding='same', input_shape=(img_rows, img_columns, 1)))\n",
        "CNN.add(BatchNormalization())\n",
        "CNN.add(Activation('LeakyReLU'))\n",
        "\n",
        "CNN.add(tf.keras.layers.MaxPooling2D(pool_size=(2, 1)))\n",
        "CNN.add(Flatten())\n",
        "CNN.add(Dropout(0.5))\n",
        "CNN.add(Dense(2, activation = 'softmax'))\n",
        "\n",
        "\n",
        "CNN.summary()"
      ],
      "metadata": {
        "colab": {
          "base_uri": "https://localhost:8080/"
        },
        "id": "-TXOtYSVAAX4",
        "outputId": "dab62e54-e2b0-4500-d4bb-18eca94db924"
      },
      "execution_count": 115,
      "outputs": [
        {
          "output_type": "stream",
          "name": "stdout",
          "text": [
            "Model: \"sequential_14\"\n",
            "_________________________________________________________________\n",
            " Layer (type)                Output Shape              Param #   \n",
            "=================================================================\n",
            " conv2d_40 (Conv2D)          (None, 22, 60, 64)        1024      \n",
            "                                                                 \n",
            " batch_normalization_6 (Batc  (None, 22, 60, 64)       256       \n",
            " hNormalization)                                                 \n",
            "                                                                 \n",
            " activation_3 (Activation)   (None, 22, 60, 64)        0         \n",
            "                                                                 \n",
            " max_pooling2d_39 (MaxPoolin  (None, 11, 60, 64)       0         \n",
            " g2D)                                                            \n",
            "                                                                 \n",
            " conv2d_41 (Conv2D)          (None, 11, 60, 128)       123008    \n",
            "                                                                 \n",
            " batch_normalization_7 (Batc  (None, 11, 60, 128)      512       \n",
            " hNormalization)                                                 \n",
            "                                                                 \n",
            " activation_4 (Activation)   (None, 11, 60, 128)       0         \n",
            "                                                                 \n",
            " max_pooling2d_40 (MaxPoolin  (None, 5, 60, 128)       0         \n",
            " g2D)                                                            \n",
            "                                                                 \n",
            " conv2d_42 (Conv2D)          (None, 5, 60, 256)        491776    \n",
            "                                                                 \n",
            " batch_normalization_8 (Batc  (None, 5, 60, 256)       1024      \n",
            " hNormalization)                                                 \n",
            "                                                                 \n",
            " activation_5 (Activation)   (None, 5, 60, 256)        0         \n",
            "                                                                 \n",
            " max_pooling2d_41 (MaxPoolin  (None, 2, 60, 256)       0         \n",
            " g2D)                                                            \n",
            "                                                                 \n",
            " flatten_13 (Flatten)        (None, 30720)             0         \n",
            "                                                                 \n",
            " dropout_5 (Dropout)         (None, 30720)             0         \n",
            "                                                                 \n",
            " dense_13 (Dense)            (None, 2)                 61442     \n",
            "                                                                 \n",
            "=================================================================\n",
            "Total params: 679,042\n",
            "Trainable params: 678,146\n",
            "Non-trainable params: 896\n",
            "_________________________________________________________________\n"
          ]
        }
      ]
    },
    {
      "cell_type": "code",
      "source": [
        "CNN.compile(optimizer=sgd, loss = 'binary_crossentropy', metrics=['accuracy'])\n",
        "history = CNN.fit(data_array_for_train_val, \n",
        "                    labels_array_bin_for_train_val, \n",
        "                    batch_size = 128,\n",
        "                    epochs=1000, \n",
        "                    validation_split=0.3, \n",
        "                    verbose=1,\n",
        "                    callbacks = [callback, es])"
      ],
      "metadata": {
        "colab": {
          "base_uri": "https://localhost:8080/"
        },
        "id": "B9DXP51bbK3A",
        "outputId": "ca190ecd-59da-4934-d538-f801c9715261"
      },
      "execution_count": 116,
      "outputs": [
        {
          "output_type": "stream",
          "name": "stdout",
          "text": [
            "Epoch 1/1000\n",
            "1/1 [==============================] - 5s 5s/step - loss: 1.0574 - accuracy: 0.4904 - val_loss: 2.0637 - val_accuracy: 0.4000\n",
            "Epoch 2/1000\n",
            "1/1 [==============================] - 4s 4s/step - loss: 1.0848 - accuracy: 0.4808 - val_loss: 1.6781 - val_accuracy: 0.4000\n",
            "Epoch 3/1000\n",
            "1/1 [==============================] - 4s 4s/step - loss: 0.9826 - accuracy: 0.4712 - val_loss: 1.4761 - val_accuracy: 0.4000\n",
            "Epoch 4/1000\n",
            "1/1 [==============================] - 4s 4s/step - loss: 1.0586 - accuracy: 0.5192 - val_loss: 1.3464 - val_accuracy: 0.4000\n",
            "Epoch 5/1000\n",
            "1/1 [==============================] - 4s 4s/step - loss: 1.0789 - accuracy: 0.5385 - val_loss: 1.2577 - val_accuracy: 0.4000\n",
            "Epoch 6/1000\n",
            "1/1 [==============================] - 4s 4s/step - loss: 1.0977 - accuracy: 0.4519 - val_loss: 1.1900 - val_accuracy: 0.4000\n",
            "Epoch 7/1000\n",
            "1/1 [==============================] - 4s 4s/step - loss: 1.1233 - accuracy: 0.4519 - val_loss: 1.1368 - val_accuracy: 0.4000\n",
            "Epoch 8/1000\n",
            "1/1 [==============================] - 5s 5s/step - loss: 1.0637 - accuracy: 0.4615 - val_loss: 1.0939 - val_accuracy: 0.4000\n",
            "Epoch 9/1000\n",
            "1/1 [==============================] - 4s 4s/step - loss: 1.0843 - accuracy: 0.4712 - val_loss: 1.0593 - val_accuracy: 0.4000\n",
            "Epoch 10/1000\n",
            "1/1 [==============================] - 4s 4s/step - loss: 1.0315 - accuracy: 0.5385 - val_loss: 1.0310 - val_accuracy: 0.4000\n",
            "Epoch 11/1000\n",
            "1/1 [==============================] - 4s 4s/step - loss: 1.0310 - accuracy: 0.4904 - val_loss: 1.0054 - val_accuracy: 0.4000\n",
            "Epoch 12/1000\n",
            "1/1 [==============================] - 4s 4s/step - loss: 0.9706 - accuracy: 0.5096 - val_loss: 0.9834 - val_accuracy: 0.3778\n",
            "Epoch 13/1000\n",
            "1/1 [==============================] - 4s 4s/step - loss: 1.0942 - accuracy: 0.4423 - val_loss: 0.9639 - val_accuracy: 0.3778\n",
            "Epoch 14/1000\n",
            "1/1 [==============================] - 4s 4s/step - loss: 1.0215 - accuracy: 0.5481 - val_loss: 0.9470 - val_accuracy: 0.3778\n",
            "Epoch 15/1000\n",
            "1/1 [==============================] - 4s 4s/step - loss: 1.0457 - accuracy: 0.5096 - val_loss: 0.9321 - val_accuracy: 0.3778\n",
            "Epoch 16/1000\n",
            "1/1 [==============================] - 4s 4s/step - loss: 1.0527 - accuracy: 0.5096 - val_loss: 0.9184 - val_accuracy: 0.3778\n",
            "Epoch 17/1000\n",
            "1/1 [==============================] - 4s 4s/step - loss: 0.9826 - accuracy: 0.4904 - val_loss: 0.9063 - val_accuracy: 0.3778\n",
            "Epoch 18/1000\n",
            "1/1 [==============================] - 4s 4s/step - loss: 0.9111 - accuracy: 0.5481 - val_loss: 0.8955 - val_accuracy: 0.3778\n",
            "Epoch 19/1000\n",
            "1/1 [==============================] - 4s 4s/step - loss: 1.0686 - accuracy: 0.4904 - val_loss: 0.8853 - val_accuracy: 0.3778\n",
            "Epoch 20/1000\n",
            "1/1 [==============================] - 5s 5s/step - loss: 1.0188 - accuracy: 0.4904 - val_loss: 0.8759 - val_accuracy: 0.4000\n",
            "Epoch 21/1000\n",
            "1/1 [==============================] - 4s 4s/step - loss: 1.0180 - accuracy: 0.5096 - val_loss: 0.8675 - val_accuracy: 0.4000\n",
            "Epoch 22/1000\n",
            "1/1 [==============================] - 4s 4s/step - loss: 0.9989 - accuracy: 0.4712 - val_loss: 0.8597 - val_accuracy: 0.4000\n",
            "Epoch 23/1000\n",
            "1/1 [==============================] - 4s 4s/step - loss: 1.0194 - accuracy: 0.5096 - val_loss: 0.8526 - val_accuracy: 0.4000\n",
            "Epoch 24/1000\n",
            "1/1 [==============================] - 4s 4s/step - loss: 1.0136 - accuracy: 0.4712 - val_loss: 0.8462 - val_accuracy: 0.4000\n",
            "Epoch 25/1000\n",
            "1/1 [==============================] - 4s 4s/step - loss: 0.8855 - accuracy: 0.5577 - val_loss: 0.8404 - val_accuracy: 0.4222\n",
            "Epoch 26/1000\n",
            "1/1 [==============================] - 4s 4s/step - loss: 0.9887 - accuracy: 0.4712 - val_loss: 0.8348 - val_accuracy: 0.4222\n",
            "Epoch 27/1000\n",
            "1/1 [==============================] - 4s 4s/step - loss: 0.9754 - accuracy: 0.5288 - val_loss: 0.8290 - val_accuracy: 0.4222\n",
            "Epoch 28/1000\n",
            "1/1 [==============================] - 4s 4s/step - loss: 1.0151 - accuracy: 0.5000 - val_loss: 0.8239 - val_accuracy: 0.4222\n",
            "Epoch 29/1000\n",
            "1/1 [==============================] - 4s 4s/step - loss: 0.8983 - accuracy: 0.5577 - val_loss: 0.8194 - val_accuracy: 0.4222\n",
            "Epoch 30/1000\n",
            "1/1 [==============================] - 4s 4s/step - loss: 0.9714 - accuracy: 0.5577 - val_loss: 0.8148 - val_accuracy: 0.4222\n",
            "Epoch 31/1000\n",
            "1/1 [==============================] - 4s 4s/step - loss: 1.0420 - accuracy: 0.4904 - val_loss: 0.8105 - val_accuracy: 0.4444\n",
            "Epoch 32/1000\n",
            "1/1 [==============================] - 4s 4s/step - loss: 0.8747 - accuracy: 0.5385 - val_loss: 0.8066 - val_accuracy: 0.4444\n",
            "Epoch 33/1000\n",
            "1/1 [==============================] - 4s 4s/step - loss: 0.9734 - accuracy: 0.5000 - val_loss: 0.8029 - val_accuracy: 0.4444\n",
            "Epoch 34/1000\n",
            "1/1 [==============================] - 4s 4s/step - loss: 0.9580 - accuracy: 0.5673 - val_loss: 0.7992 - val_accuracy: 0.4667\n",
            "Epoch 35/1000\n",
            "1/1 [==============================] - 4s 4s/step - loss: 1.0951 - accuracy: 0.4712 - val_loss: 0.7954 - val_accuracy: 0.4667\n",
            "Epoch 36/1000\n",
            "1/1 [==============================] - 4s 4s/step - loss: 0.9853 - accuracy: 0.4904 - val_loss: 0.7923 - val_accuracy: 0.4889\n",
            "Epoch 37/1000\n",
            "1/1 [==============================] - 4s 4s/step - loss: 0.9220 - accuracy: 0.5481 - val_loss: 0.7891 - val_accuracy: 0.4889\n",
            "Epoch 38/1000\n",
            "1/1 [==============================] - 4s 4s/step - loss: 1.0500 - accuracy: 0.4135 - val_loss: 0.7858 - val_accuracy: 0.4889\n",
            "Epoch 39/1000\n",
            "1/1 [==============================] - 4s 4s/step - loss: 0.9774 - accuracy: 0.4712 - val_loss: 0.7833 - val_accuracy: 0.4889\n",
            "Epoch 40/1000\n",
            "1/1 [==============================] - 4s 4s/step - loss: 0.9053 - accuracy: 0.5288 - val_loss: 0.7810 - val_accuracy: 0.4889\n",
            "Epoch 41/1000\n",
            "1/1 [==============================] - 4s 4s/step - loss: 0.9370 - accuracy: 0.5385 - val_loss: 0.7786 - val_accuracy: 0.4889\n",
            "Epoch 42/1000\n",
            "1/1 [==============================] - 4s 4s/step - loss: 0.9553 - accuracy: 0.5192 - val_loss: 0.7763 - val_accuracy: 0.4889\n",
            "Epoch 43/1000\n",
            "1/1 [==============================] - 4s 4s/step - loss: 0.8823 - accuracy: 0.5481 - val_loss: 0.7737 - val_accuracy: 0.4889\n",
            "Epoch 44/1000\n",
            "1/1 [==============================] - 4s 4s/step - loss: 1.0056 - accuracy: 0.4327 - val_loss: 0.7715 - val_accuracy: 0.4889\n",
            "Epoch 45/1000\n",
            "1/1 [==============================] - 4s 4s/step - loss: 0.8979 - accuracy: 0.5288 - val_loss: 0.7697 - val_accuracy: 0.4889\n",
            "Epoch 46/1000\n",
            "1/1 [==============================] - 4s 4s/step - loss: 0.9603 - accuracy: 0.5192 - val_loss: 0.7677 - val_accuracy: 0.4889\n",
            "Epoch 47/1000\n",
            "1/1 [==============================] - 4s 4s/step - loss: 0.9334 - accuracy: 0.5481 - val_loss: 0.7656 - val_accuracy: 0.4667\n",
            "Epoch 48/1000\n",
            "1/1 [==============================] - 4s 4s/step - loss: 0.9539 - accuracy: 0.5288 - val_loss: 0.7638 - val_accuracy: 0.4889\n",
            "Epoch 49/1000\n",
            "1/1 [==============================] - 4s 4s/step - loss: 0.9455 - accuracy: 0.5288 - val_loss: 0.7619 - val_accuracy: 0.4889\n",
            "Epoch 50/1000\n",
            "1/1 [==============================] - 4s 4s/step - loss: 0.9495 - accuracy: 0.5481 - val_loss: 0.7601 - val_accuracy: 0.4889\n",
            "Epoch 51/1000\n",
            "1/1 [==============================] - 5s 5s/step - loss: 0.9263 - accuracy: 0.5769 - val_loss: 0.7583 - val_accuracy: 0.4889\n",
            "Epoch 52/1000\n",
            "1/1 [==============================] - 4s 4s/step - loss: 0.8206 - accuracy: 0.5865 - val_loss: 0.7565 - val_accuracy: 0.4889\n",
            "Epoch 53/1000\n",
            "1/1 [==============================] - 4s 4s/step - loss: 0.8695 - accuracy: 0.5481 - val_loss: 0.7549 - val_accuracy: 0.4667\n",
            "Epoch 54/1000\n",
            "1/1 [==============================] - 4s 4s/step - loss: 0.9973 - accuracy: 0.5192 - val_loss: 0.7535 - val_accuracy: 0.4667\n",
            "Epoch 55/1000\n",
            "1/1 [==============================] - 4s 4s/step - loss: 0.9642 - accuracy: 0.5288 - val_loss: 0.7520 - val_accuracy: 0.4667\n",
            "Epoch 56/1000\n",
            "1/1 [==============================] - 4s 4s/step - loss: 0.9322 - accuracy: 0.4615 - val_loss: 0.7504 - val_accuracy: 0.4667\n",
            "Epoch 57/1000\n",
            "1/1 [==============================] - 4s 4s/step - loss: 0.8978 - accuracy: 0.5192 - val_loss: 0.7489 - val_accuracy: 0.4667\n",
            "Epoch 58/1000\n",
            "1/1 [==============================] - 4s 4s/step - loss: 0.9374 - accuracy: 0.5192 - val_loss: 0.7476 - val_accuracy: 0.4667\n",
            "Epoch 59/1000\n",
            "1/1 [==============================] - 4s 4s/step - loss: 0.8448 - accuracy: 0.5481 - val_loss: 0.7464 - val_accuracy: 0.4667\n",
            "Epoch 60/1000\n",
            "1/1 [==============================] - 4s 4s/step - loss: 0.8821 - accuracy: 0.5769 - val_loss: 0.7451 - val_accuracy: 0.4667\n",
            "Epoch 61/1000\n",
            "1/1 [==============================] - 4s 4s/step - loss: 1.0010 - accuracy: 0.4904 - val_loss: 0.7438 - val_accuracy: 0.4667\n",
            "Epoch 62/1000\n",
            "1/1 [==============================] - 4s 4s/step - loss: 0.8926 - accuracy: 0.5481 - val_loss: 0.7427 - val_accuracy: 0.4667\n",
            "Epoch 63/1000\n",
            "1/1 [==============================] - 4s 4s/step - loss: 0.8802 - accuracy: 0.5288 - val_loss: 0.7415 - val_accuracy: 0.4889\n",
            "Epoch 64/1000\n",
            "1/1 [==============================] - 4s 4s/step - loss: 1.0013 - accuracy: 0.4423 - val_loss: 0.7404 - val_accuracy: 0.5111\n",
            "Epoch 65/1000\n",
            "1/1 [==============================] - 4s 4s/step - loss: 0.9077 - accuracy: 0.5288 - val_loss: 0.7392 - val_accuracy: 0.5111\n",
            "Epoch 66/1000\n",
            "1/1 [==============================] - 4s 4s/step - loss: 0.9745 - accuracy: 0.5096 - val_loss: 0.7383 - val_accuracy: 0.5111\n",
            "Epoch 67/1000\n",
            "1/1 [==============================] - 4s 4s/step - loss: 0.9175 - accuracy: 0.4808 - val_loss: 0.7371 - val_accuracy: 0.5333\n",
            "Epoch 68/1000\n",
            "1/1 [==============================] - 4s 4s/step - loss: 0.9093 - accuracy: 0.5385 - val_loss: 0.7362 - val_accuracy: 0.5333\n",
            "Epoch 69/1000\n",
            "1/1 [==============================] - 4s 4s/step - loss: 0.8999 - accuracy: 0.6058 - val_loss: 0.7353 - val_accuracy: 0.5333\n",
            "Epoch 70/1000\n",
            "1/1 [==============================] - 4s 4s/step - loss: 0.9537 - accuracy: 0.5769 - val_loss: 0.7344 - val_accuracy: 0.5333\n",
            "Epoch 71/1000\n",
            "1/1 [==============================] - 4s 4s/step - loss: 0.9117 - accuracy: 0.5288 - val_loss: 0.7337 - val_accuracy: 0.5333\n",
            "Epoch 72/1000\n",
            "1/1 [==============================] - 4s 4s/step - loss: 0.8878 - accuracy: 0.5385 - val_loss: 0.7328 - val_accuracy: 0.5333\n",
            "Epoch 73/1000\n",
            "1/1 [==============================] - 4s 4s/step - loss: 0.9272 - accuracy: 0.5577 - val_loss: 0.7321 - val_accuracy: 0.5333\n",
            "Epoch 74/1000\n",
            "1/1 [==============================] - 4s 4s/step - loss: 0.9995 - accuracy: 0.4423 - val_loss: 0.7314 - val_accuracy: 0.5333\n",
            "Epoch 75/1000\n",
            "1/1 [==============================] - 4s 4s/step - loss: 0.8912 - accuracy: 0.5288 - val_loss: 0.7305 - val_accuracy: 0.5333\n",
            "Epoch 76/1000\n",
            "1/1 [==============================] - 4s 4s/step - loss: 0.8640 - accuracy: 0.5481 - val_loss: 0.7300 - val_accuracy: 0.5333\n",
            "Epoch 77/1000\n",
            "1/1 [==============================] - 4s 4s/step - loss: 0.9213 - accuracy: 0.5288 - val_loss: 0.7293 - val_accuracy: 0.5333\n",
            "Epoch 78/1000\n",
            "1/1 [==============================] - 4s 4s/step - loss: 0.8996 - accuracy: 0.5192 - val_loss: 0.7288 - val_accuracy: 0.5333\n",
            "Epoch 79/1000\n",
            "1/1 [==============================] - 4s 4s/step - loss: 0.9123 - accuracy: 0.5288 - val_loss: 0.7283 - val_accuracy: 0.5333\n",
            "Epoch 80/1000\n",
            "1/1 [==============================] - 4s 4s/step - loss: 0.9251 - accuracy: 0.4808 - val_loss: 0.7278 - val_accuracy: 0.5333\n",
            "Epoch 81/1000\n",
            "1/1 [==============================] - 4s 4s/step - loss: 0.8434 - accuracy: 0.5769 - val_loss: 0.7273 - val_accuracy: 0.5111\n",
            "Epoch 82/1000\n",
            "1/1 [==============================] - 4s 4s/step - loss: 0.9052 - accuracy: 0.5288 - val_loss: 0.7269 - val_accuracy: 0.5111\n",
            "Epoch 83/1000\n",
            "1/1 [==============================] - 4s 4s/step - loss: 0.8865 - accuracy: 0.5192 - val_loss: 0.7262 - val_accuracy: 0.5111\n",
            "Epoch 84/1000\n",
            "1/1 [==============================] - 4s 4s/step - loss: 0.8470 - accuracy: 0.5385 - val_loss: 0.7259 - val_accuracy: 0.5111\n",
            "Epoch 85/1000\n",
            "1/1 [==============================] - 4s 4s/step - loss: 0.8789 - accuracy: 0.5192 - val_loss: 0.7253 - val_accuracy: 0.5111\n",
            "Epoch 86/1000\n",
            "1/1 [==============================] - 4s 4s/step - loss: 0.8779 - accuracy: 0.5288 - val_loss: 0.7248 - val_accuracy: 0.5111\n",
            "Epoch 87/1000\n",
            "1/1 [==============================] - 4s 4s/step - loss: 0.8705 - accuracy: 0.5962 - val_loss: 0.7244 - val_accuracy: 0.4889\n",
            "Epoch 88/1000\n",
            "1/1 [==============================] - 4s 4s/step - loss: 0.9438 - accuracy: 0.4808 - val_loss: 0.7238 - val_accuracy: 0.4889\n",
            "Epoch 89/1000\n",
            "1/1 [==============================] - 4s 4s/step - loss: 0.9376 - accuracy: 0.4808 - val_loss: 0.7233 - val_accuracy: 0.5111\n",
            "Epoch 90/1000\n",
            "1/1 [==============================] - 4s 4s/step - loss: 0.8731 - accuracy: 0.5288 - val_loss: 0.7227 - val_accuracy: 0.5111\n",
            "Epoch 91/1000\n",
            "1/1 [==============================] - 4s 4s/step - loss: 0.8634 - accuracy: 0.5673 - val_loss: 0.7222 - val_accuracy: 0.4889\n",
            "Epoch 92/1000\n",
            "1/1 [==============================] - 4s 4s/step - loss: 0.8637 - accuracy: 0.5481 - val_loss: 0.7218 - val_accuracy: 0.4889\n",
            "Epoch 93/1000\n",
            "1/1 [==============================] - 4s 4s/step - loss: 0.8594 - accuracy: 0.5962 - val_loss: 0.7213 - val_accuracy: 0.4889\n",
            "Epoch 94/1000\n",
            "1/1 [==============================] - 4s 4s/step - loss: 0.8924 - accuracy: 0.5577 - val_loss: 0.7209 - val_accuracy: 0.4889\n",
            "Epoch 95/1000\n",
            "1/1 [==============================] - 4s 4s/step - loss: 0.8361 - accuracy: 0.5288 - val_loss: 0.7205 - val_accuracy: 0.5333\n",
            "Epoch 96/1000\n",
            "1/1 [==============================] - 4s 4s/step - loss: 0.8989 - accuracy: 0.5096 - val_loss: 0.7199 - val_accuracy: 0.5333\n",
            "Epoch 97/1000\n",
            "1/1 [==============================] - 4s 4s/step - loss: 0.7836 - accuracy: 0.5288 - val_loss: 0.7194 - val_accuracy: 0.5333\n",
            "Epoch 98/1000\n",
            "1/1 [==============================] - 4s 4s/step - loss: 0.8721 - accuracy: 0.5385 - val_loss: 0.7191 - val_accuracy: 0.5333\n",
            "Epoch 99/1000\n",
            "1/1 [==============================] - 4s 4s/step - loss: 0.8737 - accuracy: 0.5865 - val_loss: 0.7186 - val_accuracy: 0.5333\n",
            "Epoch 100/1000\n",
            "1/1 [==============================] - 4s 4s/step - loss: 0.9259 - accuracy: 0.5192 - val_loss: 0.7183 - val_accuracy: 0.5333\n",
            "Epoch 101/1000\n",
            "1/1 [==============================] - 4s 4s/step - loss: 0.9362 - accuracy: 0.5385 - val_loss: 0.7180 - val_accuracy: 0.5333\n",
            "Epoch 102/1000\n",
            "1/1 [==============================] - 4s 4s/step - loss: 0.8990 - accuracy: 0.5000 - val_loss: 0.7177 - val_accuracy: 0.5333\n",
            "Epoch 103/1000\n",
            "1/1 [==============================] - 4s 4s/step - loss: 0.8813 - accuracy: 0.5096 - val_loss: 0.7173 - val_accuracy: 0.5333\n",
            "Epoch 104/1000\n",
            "1/1 [==============================] - 5s 5s/step - loss: 0.8982 - accuracy: 0.5000 - val_loss: 0.7169 - val_accuracy: 0.5333\n",
            "Epoch 105/1000\n",
            "1/1 [==============================] - 4s 4s/step - loss: 0.9243 - accuracy: 0.5192 - val_loss: 0.7165 - val_accuracy: 0.5333\n",
            "Epoch 106/1000\n",
            "1/1 [==============================] - 4s 4s/step - loss: 0.8510 - accuracy: 0.5865 - val_loss: 0.7163 - val_accuracy: 0.5556\n",
            "Epoch 107/1000\n",
            "1/1 [==============================] - 4s 4s/step - loss: 0.8253 - accuracy: 0.6058 - val_loss: 0.7161 - val_accuracy: 0.5778\n",
            "Epoch 108/1000\n",
            "1/1 [==============================] - 4s 4s/step - loss: 0.8564 - accuracy: 0.5288 - val_loss: 0.7159 - val_accuracy: 0.5556\n",
            "Epoch 109/1000\n",
            "1/1 [==============================] - 4s 4s/step - loss: 0.8638 - accuracy: 0.5769 - val_loss: 0.7156 - val_accuracy: 0.5556\n",
            "Epoch 110/1000\n",
            "1/1 [==============================] - 4s 4s/step - loss: 0.8381 - accuracy: 0.5769 - val_loss: 0.7155 - val_accuracy: 0.5778\n",
            "Epoch 111/1000\n",
            "1/1 [==============================] - 4s 4s/step - loss: 0.8889 - accuracy: 0.5288 - val_loss: 0.7153 - val_accuracy: 0.5778\n",
            "Epoch 112/1000\n",
            "1/1 [==============================] - 4s 4s/step - loss: 0.9049 - accuracy: 0.5481 - val_loss: 0.7152 - val_accuracy: 0.5778\n",
            "Epoch 113/1000\n",
            "1/1 [==============================] - 4s 4s/step - loss: 0.8340 - accuracy: 0.5481 - val_loss: 0.7148 - val_accuracy: 0.5778\n",
            "Epoch 114/1000\n",
            "1/1 [==============================] - 4s 4s/step - loss: 0.8399 - accuracy: 0.5577 - val_loss: 0.7149 - val_accuracy: 0.5778\n",
            "Epoch 115/1000\n",
            "1/1 [==============================] - 4s 4s/step - loss: 0.9799 - accuracy: 0.4615 - val_loss: 0.7147 - val_accuracy: 0.5778\n",
            "Epoch 116/1000\n",
            "1/1 [==============================] - 4s 4s/step - loss: 0.9198 - accuracy: 0.5000 - val_loss: 0.7144 - val_accuracy: 0.5778\n",
            "Epoch 117/1000\n",
            "1/1 [==============================] - 4s 4s/step - loss: 0.8803 - accuracy: 0.5385 - val_loss: 0.7142 - val_accuracy: 0.5778\n",
            "Epoch 118/1000\n",
            "1/1 [==============================] - 4s 4s/step - loss: 0.8719 - accuracy: 0.5673 - val_loss: 0.7138 - val_accuracy: 0.5778\n",
            "Epoch 119/1000\n",
            "1/1 [==============================] - 4s 4s/step - loss: 0.8640 - accuracy: 0.5192 - val_loss: 0.7136 - val_accuracy: 0.6000\n",
            "Epoch 120/1000\n",
            "1/1 [==============================] - 4s 4s/step - loss: 0.8501 - accuracy: 0.5000 - val_loss: 0.7134 - val_accuracy: 0.6000\n",
            "Epoch 121/1000\n",
            "1/1 [==============================] - 4s 4s/step - loss: 0.9433 - accuracy: 0.4808 - val_loss: 0.7133 - val_accuracy: 0.6000\n",
            "Epoch 122/1000\n",
            "1/1 [==============================] - 4s 4s/step - loss: 0.8184 - accuracy: 0.6058 - val_loss: 0.7131 - val_accuracy: 0.6000\n",
            "Epoch 123/1000\n",
            "1/1 [==============================] - 4s 4s/step - loss: 0.9228 - accuracy: 0.4904 - val_loss: 0.7129 - val_accuracy: 0.6000\n",
            "Epoch 124/1000\n",
            "1/1 [==============================] - 4s 4s/step - loss: 0.8042 - accuracy: 0.5865 - val_loss: 0.7128 - val_accuracy: 0.6000\n",
            "Epoch 125/1000\n",
            "1/1 [==============================] - 4s 4s/step - loss: 0.8716 - accuracy: 0.5769 - val_loss: 0.7124 - val_accuracy: 0.6222\n",
            "Epoch 126/1000\n",
            "1/1 [==============================] - 4s 4s/step - loss: 0.8235 - accuracy: 0.5962 - val_loss: 0.7122 - val_accuracy: 0.6222\n",
            "Epoch 127/1000\n",
            "1/1 [==============================] - 4s 4s/step - loss: 0.9038 - accuracy: 0.4615 - val_loss: 0.7120 - val_accuracy: 0.6222\n",
            "Epoch 128/1000\n",
            "1/1 [==============================] - 4s 4s/step - loss: 0.8474 - accuracy: 0.5192 - val_loss: 0.7120 - val_accuracy: 0.6222\n",
            "Epoch 129/1000\n",
            "1/1 [==============================] - 4s 4s/step - loss: 0.9557 - accuracy: 0.5000 - val_loss: 0.7117 - val_accuracy: 0.6222\n",
            "Epoch 130/1000\n",
            "1/1 [==============================] - 4s 4s/step - loss: 0.9572 - accuracy: 0.4423 - val_loss: 0.7115 - val_accuracy: 0.6222\n",
            "Epoch 131/1000\n",
            "1/1 [==============================] - 4s 4s/step - loss: 0.8787 - accuracy: 0.5673 - val_loss: 0.7114 - val_accuracy: 0.6000\n",
            "Epoch 132/1000\n",
            "1/1 [==============================] - 4s 4s/step - loss: 0.9204 - accuracy: 0.5288 - val_loss: 0.7114 - val_accuracy: 0.6000\n",
            "Epoch 133/1000\n",
            "1/1 [==============================] - 4s 4s/step - loss: 0.9477 - accuracy: 0.5192 - val_loss: 0.7115 - val_accuracy: 0.6000\n",
            "Epoch 134/1000\n",
            "1/1 [==============================] - 4s 4s/step - loss: 0.9065 - accuracy: 0.5192 - val_loss: 0.7114 - val_accuracy: 0.6000\n",
            "Epoch 135/1000\n",
            "1/1 [==============================] - 4s 4s/step - loss: 0.9205 - accuracy: 0.5192 - val_loss: 0.7113 - val_accuracy: 0.6000\n",
            "Epoch 136/1000\n",
            "1/1 [==============================] - 4s 4s/step - loss: 0.7987 - accuracy: 0.5962 - val_loss: 0.7111 - val_accuracy: 0.6000\n",
            "Epoch 137/1000\n",
            "1/1 [==============================] - 4s 4s/step - loss: 0.9407 - accuracy: 0.5096 - val_loss: 0.7109 - val_accuracy: 0.6000\n",
            "Epoch 138/1000\n",
            "1/1 [==============================] - 4s 4s/step - loss: 0.9328 - accuracy: 0.4808 - val_loss: 0.7108 - val_accuracy: 0.6222\n",
            "Epoch 139/1000\n",
            "1/1 [==============================] - 4s 4s/step - loss: 0.8256 - accuracy: 0.5577 - val_loss: 0.7109 - val_accuracy: 0.6222\n",
            "Epoch 140/1000\n",
            "1/1 [==============================] - 4s 4s/step - loss: 0.8068 - accuracy: 0.5962 - val_loss: 0.7109 - val_accuracy: 0.6222\n",
            "Epoch 140: early stopping\n"
          ]
        }
      ]
    },
    {
      "cell_type": "code",
      "source": [
        "                                                ### График ошибки и качества ###\n",
        "plt.plot(history.history['loss'], \n",
        "         label='ошибка')\n",
        "plt.plot(history.history['val_loss'], \n",
        "         label='ошибка на проверочном наборе')\n",
        "plt.xlabel('Эпоха обучения')\n",
        "plt.ylabel('Ошибка')\n",
        "plt.legend()\n",
        "plt.show()\n",
        "\n",
        "\n",
        "plt.plot(history.history['accuracy'], \n",
        "         label='точность на тренировочном наборе')\n",
        "plt.plot(history.history['val_accuracy'], \n",
        "         label='точность на проверочном наборе')\n",
        "plt.xlabel('Эпоха обучения')\n",
        "plt.ylabel('Точность')\n",
        "plt.legend()\n",
        "plt.show()"
      ],
      "metadata": {
        "id": "6eCVwMMaj0YK",
        "colab": {
          "base_uri": "https://localhost:8080/",
          "height": 541
        },
        "outputId": "ba31a599-6104-49c8-f09e-a0e59dce9ccd"
      },
      "execution_count": 117,
      "outputs": [
        {
          "output_type": "display_data",
          "data": {
            "text/plain": [
              "<Figure size 432x288 with 1 Axes>"
            ],
            "image/png": "[encoded data removed]"
          },
          "metadata": {
            "needs_background": "light"
          }
        },
        {
          "output_type": "display_data",
          "data": {
            "text/plain": [
              "<Figure size 432x288 with 1 Axes>"
            ],
            "image/png": "[encoded data removed]"
          },
          "metadata": {
            "needs_background": "light"
          }
        }
      ]
    },
    {
      "cell_type": "code",
      "source": [
        "scores = CNN.evaluate(data_array_for_test, labels_array_bin_for_test)\n",
        "print(scores[1])"
      ],
      "metadata": {
        "id": "dgcq-Imcu2CV",
        "colab": {
          "base_uri": "https://localhost:8080/"
        },
        "outputId": "77252bc6-300d-46ea-807c-c8ea857ef0de"
      },
      "execution_count": 118,
      "outputs": [
        {
          "output_type": "stream",
          "name": "stdout",
          "text": [
            "5/5 [==============================] - 1s 264ms/step - loss: 0.6945 - accuracy: 0.5503\n",
            "0.5503355860710144\n"
          ]
        }
      ]
    },
    {
      "cell_type": "code",
      "source": [
        "prediction = CNN.predict(data_array_for_test)"
      ],
      "metadata": {
        "colab": {
          "base_uri": "https://localhost:8080/"
        },
        "id": "td1tt7-EWvpF",
        "outputId": "0f054d06-f3ad-4808-fab6-f7862e918db6"
      },
      "execution_count": 119,
      "outputs": [
        {
          "output_type": "stream",
          "name": "stdout",
          "text": [
            "5/5 [==============================] - 1s 264ms/step\n"
          ]
        }
      ]
    },
    {
      "cell_type": "code",
      "source": [
        "labels_array_for_test = labels_array[int(labels_array.shape[0]*0.5):]\n",
        "print(np.argmax(prediction,  axis=1))\n",
        "print(labels_array_for_test)"
      ],
      "metadata": {
        "colab": {
          "base_uri": "https://localhost:8080/"
        },
        "id": "mfmhKIVVW2ld",
        "outputId": "a4c5b7b9-73c8-49c8-99cb-32e905b63533"
      },
      "execution_count": 120,
      "outputs": [
        {
          "output_type": "stream",
          "name": "stdout",
          "text": [
            "[1 1 1 0 0 0 1 0 0 0 0 0 0 1 0 0 0 1 1 0 1 0 0 1 0 1 0 0 0 0 0 1 0 0 0 0 0\n",
            " 0 1 1 1 0 1 1 1 0 0 0 1 0 0 1 1 0 1 1 1 0 1 1 0 0 0 1 1 0 1 1 0 0 1 1 0 0\n",
            " 0 0 1 1 1 0 1 1 1 0 1 1 1 0 1 0 1 0 1 0 1 1 0 0 1 0 1 0 0 1 1 1 1 1 1 0 0\n",
            " 0 0 1 0 0 0 1 0 1 0 1 1 1 1 1 0 0 0 0 0 1 1 0 0 0 1 1 0 1 0 1 0 1 0 1 0 0\n",
            " 0]\n",
            "[1 0 1 1 1 0 0 0 1 1 0 0 1 1 0 0 0 0 1 1 0 0 0 1 0 0 0 0 0 1 1 0 1 1 0 0 0\n",
            " 1 0 0 1 0 1 1 0 1 0 1 1 1 1 1 1 0 1 0 1 1 1 1 0 1 0 1 1 1 1 1 1 1 0 1 0 1\n",
            " 0 1 0 1 0 0 1 0 1 1 1 1 1 1 1 1 0 0 0 0 1 1 0 0 0 0 1 1 0 1 0 1 1 0 0 1 1\n",
            " 1 1 1 1 0 1 1 1 1 0 0 1 1 1 1 1 0 1 1 1 1 1 1 0 1 1 0 0 0 0 0 0 0 1 1 0 1\n",
            " 1]\n"
          ]
        }
      ]
    },
    {
      "cell_type": "code",
      "source": [
        "from sklearn.metrics import precision_recall_curve, classification_report\n",
        "from sklearn.metrics import precision_recall_fscore_support as score\n",
        "precision, recall, fscore, support = score(labels_array_for_test, np.argmax(prediction,  axis=1))\n",
        "report = classification_report(labels_array_for_test, np.argmax(prediction,  axis=1))\n",
        "print(report)\n"
      ],
      "metadata": {
        "colab": {
          "base_uri": "https://localhost:8080/"
        },
        "id": "ad0A4DUXYvx6",
        "outputId": "3033aef8-0bd9-4df4-c316-051494eca71d"
      },
      "execution_count": 121,
      "outputs": [
        {
          "output_type": "stream",
          "name": "stdout",
          "text": [
            "              precision    recall  f1-score   support\n",
            "\n",
            "           0       0.47      0.60      0.53        63\n",
            "           1       0.64      0.51      0.57        86\n",
            "\n",
            "    accuracy                           0.55       149\n",
            "   macro avg       0.56      0.56      0.55       149\n",
            "weighted avg       0.57      0.55      0.55       149\n",
            "\n"
          ]
        }
      ]
    },
    {
      "cell_type": "code",
      "source": [
        "## Считаем точность если доверяем модели при ее уверенности не ниже 70%\n",
        "threshold = 0.7\n",
        "preds = prediction[:,1][prediction[:,1] >= threshold]\n",
        "actuals = labels_array_bin_for_test[:,1][prediction[:,1] >= threshold]\n",
        "\n",
        "from sklearn.metrics import accuracy_score\n",
        "print ('Accuracy on higher threshold:', accuracy_score(actuals,[1 if x > 0.5 else 0 for x in preds]))\n",
        "print('Returns:',len(actuals))\n",
        "print(len(labels_array_for_test))"
      ],
      "metadata": {
        "colab": {
          "base_uri": "https://localhost:8080/"
        },
        "id": "Zh_OoYxGcGlh",
        "outputId": "9b2b9cd6-06d9-4b40-9f2e-ad872d65e68a"
      },
      "execution_count": 131,
      "outputs": [
        {
          "output_type": "stream",
          "name": "stdout",
          "text": [
            "Accuracy on higher threshold: 0.6923076923076923\n",
            "Returns: 13\n",
            "149\n"
          ]
        }
      ]
    },
    {
      "cell_type": "code",
      "source": [
        "# Сохранение модели\n",
        "json_file = 'CNN_1.json'\n",
        "model_json = CNN.to_json()\n",
        "with open(json_file, 'w') as f:\n",
        "  f.write(model_json)\n",
        "\n",
        "# Загрузка модели и присвоение ей сохраненных весов\n",
        "json_file = open('CNN_1.json', 'r')\n",
        "loaded_model_json = json_file.read()\n",
        "json_file.close()\n",
        "loaded_model = model_from_json(loaded_model_json)\n",
        "loaded_model.load_weights(\"CNN_1_weights.h5\")\n",
        "\n",
        "# оценка загруженной модели на тестовых данных\n",
        "loaded_model.compile(loss='binary_crossentropy', optimizer=sgd, metrics=['accuracy'])\n",
        "score = loaded_model.evaluate(data_array_for_train_val, labels_array_bin_for_train_val, verbose=0)\n",
        "print(\"%s: %.2f\" % (loaded_model.metrics_names[1], score[1]))\n",
        "\n",
        "# Визуализация построенной модели\n",
        "plot_model(CNN, to_file='CNN_1_model_visualization.png', show_shapes=True, show_layer_names=True)"
      ],
      "metadata": {
        "colab": {
          "base_uri": "https://localhost:8080/",
          "height": 1000
        },
        "id": "AqHFiAMZn7Ok",
        "outputId": "0ffab903-3ccb-4549-b17c-c40ffb13c17b"
      },
      "execution_count": 136,
      "outputs": [
        {
          "output_type": "stream",
          "name": "stdout",
          "text": [
            "accuracy: 0.60\n"
          ]
        },
        {
          "output_type": "execute_result",
          "data": {
            "image/png": "[encoded data removed]",
            "text/plain": [
              "<IPython.core.display.Image object>"
            ]
          },
          "metadata": {},
          "execution_count": 136
        }
      ]
    },
    {
      "cell_type": "code",
      "source": [
        "dir = '/content/CNN_1_weights.h5'"
      ],
      "metadata": {
        "id": "fSlrBLOOn7SI"
      },
      "execution_count": 137,
      "outputs": []
    },
    {
      "cell_type": "code",
      "source": [
        "from google.colab import files\n",
        "files.download('/content/CNN_1_weights.h5')"
      ],
      "metadata": {
        "colab": {
          "base_uri": "https://localhost:8080/",
          "height": 17
        },
        "id": "9AUksdA8n7Te",
        "outputId": "75f8fda7-7b66-4c0d-f379-6e6d7d907530"
      },
      "execution_count": 139,
      "outputs": [
        {
          "output_type": "display_data",
          "data": {
            "text/plain": [
              "<IPython.core.display.Javascript object>"
            ],
            "application/javascript": [
              "\n",
              "    async function download(id, filename, size) {\n",
              "      if (!google.colab.kernel.accessAllowed) {\n",
              "        return;\n",
              "      }\n",
              "      const div = document.createElement('div');\n",
              "      const label = document.createElement('label');\n",
              "      label.textContent = `Downloading \"${filename}\": `;\n",
              "      div.appendChild(label);\n",
              "      const progress = document.createElement('progress');\n",
              "      progress.max = size;\n",
              "      div.appendChild(progress);\n",
              "      document.body.appendChild(div);\n",
              "\n",
              "      const buffers = [];\n",
              "      let downloaded = 0;\n",
              "\n",
              "      const channel = await google.colab.kernel.comms.open(id);\n",
              "      // Send a message to notify the kernel that we're ready.\n",
              "      channel.send({})\n",
              "\n",
              "      for await (const message of channel.messages) {\n",
              "        // Send a message to notify the kernel that we're ready.\n",
              "        channel.send({})\n",
              "        if (message.buffers) {\n",
              "          for (const buffer of message.buffers) {\n",
              "            buffers.push(buffer);\n",
              "            downloaded += buffer.byteLength;\n",
              "            progress.value = downloaded;\n",
              "          }\n",
              "        }\n",
              "      }\n",
              "      const blob = new Blob(buffers, {type: 'application/binary'});\n",
              "      const a = document.createElement('a');\n",
              "      a.href = window.URL.createObjectURL(blob);\n",
              "      a.download = filename;\n",
              "      div.appendChild(a);\n",
              "      a.click();\n",
              "      div.remove();\n",
              "    }\n",
              "  "
            ]
          },
          "metadata": {}
        },
        {
          "output_type": "display_data",
          "data": {
            "text/plain": [
              "<IPython.core.display.Javascript object>"
            ],
            "application/javascript": [
              "download(\"download_84f7e826-ef86-48c2-aeaa-2ddfea404ae7\", \"CNN_1_weights.h5\", 2760808)"
            ]
          },
          "metadata": {}
        }
      ]
    },
    {
      "cell_type": "markdown",
      "source": [
        "## Преобразование в zip"
      ],
      "metadata": {
        "id": "5E9Fv8booKBN"
      }
    },
    {
      "cell_type": "code",
      "source": [
        "!zip -r /content/images.zip /content/images # Упаковка в zip"
      ],
      "metadata": {
        "id": "AP0OBQj2Pkjh"
      },
      "execution_count": null,
      "outputs": []
    },
    {
      "cell_type": "code",
      "source": [
        "shutil.unpack_archive(\"images.zip\", \"images\") # Распаковка zip"
      ],
      "metadata": {
        "id": "aUCttiaTPWFm"
      },
      "execution_count": null,
      "outputs": []
    },
    {
      "cell_type": "code",
      "source": [
        "!unzip 'images.zip'"
      ],
      "metadata": {
        "colab": {
          "base_uri": "https://localhost:8080/"
        },
        "id": "bhWyz7MNQXXa",
        "outputId": "dde26a78-add1-475d-9026-23e93389c6ce"
      },
      "execution_count": 13,
      "outputs": [
        {
          "output_type": "stream",
          "name": "stdout",
          "text": [
            "Archive:  images.zip\n",
            "   creating: content/images/\n",
            "  inflating: content/images/40.png   \n",
            "  inflating: content/images/8.png    \n",
            "  inflating: content/images/27.png   \n",
            "  inflating: content/images/142.png  \n",
            "  inflating: content/images/85.png   \n",
            "  inflating: content/images/70.png   \n",
            "  inflating: content/images/180.png  \n",
            "  inflating: content/images/0.png    \n",
            "  inflating: content/images/204.png  \n",
            "  inflating: content/images/256.png  \n",
            "  inflating: content/images/108.png  \n",
            "  inflating: content/images/241.png  \n",
            "  inflating: content/images/136.png  \n",
            "  inflating: content/images/245.png  \n",
            "  inflating: content/images/297.png  \n",
            "  inflating: content/images/162.png  \n",
            "  inflating: content/images/168.png  \n",
            "  inflating: content/images/187.png  \n",
            "  inflating: content/images/67.png   \n",
            "  inflating: content/images/165.png  \n",
            "  inflating: content/images/200.png  \n",
            "  inflating: content/images/7.png    \n",
            "  inflating: content/images/131.png  \n",
            "  inflating: content/images/89.png   \n",
            "  inflating: content/images/205.png  \n",
            "  inflating: content/images/235.png  \n",
            "  inflating: content/images/198.png  \n",
            "  inflating: content/images/75.png   \n",
            "  inflating: content/images/246.png  \n",
            "  inflating: content/images/273.png  \n",
            "  inflating: content/images/133.png  \n",
            "  inflating: content/images/209.png  \n",
            "  inflating: content/images/117.png  \n",
            "  inflating: content/images/14.png   \n",
            "  inflating: content/images/214.png  \n",
            "  inflating: content/images/71.png   \n",
            "  inflating: content/images/141.png  \n",
            "  inflating: content/images/59.png   \n",
            "  inflating: content/images/68.png   \n",
            "  inflating: content/images/135.png  \n",
            "  inflating: content/images/269.png  \n",
            "  inflating: content/images/175.png  \n",
            "  inflating: content/images/39.png   \n",
            "  inflating: content/images/277.png  \n",
            "  inflating: content/images/244.png  \n",
            "  inflating: content/images/44.png   \n",
            "  inflating: content/images/60.png   \n",
            "  inflating: content/images/113.png  \n",
            "  inflating: content/images/93.png   \n",
            "  inflating: content/images/185.png  \n",
            "  inflating: content/images/193.png  \n",
            "  inflating: content/images/2.png    \n",
            "  inflating: content/images/124.png  \n",
            "  inflating: content/images/255.png  \n",
            "  inflating: content/images/264.png  \n",
            "  inflating: content/images/146.png  \n",
            "  inflating: content/images/218.png  \n",
            "  inflating: content/images/62.png   \n",
            "  inflating: content/images/283.png  \n",
            "  inflating: content/images/249.png  \n",
            "  inflating: content/images/247.png  \n",
            "  inflating: content/images/237.png  \n",
            "  inflating: content/images/28.png   \n",
            "  inflating: content/images/271.png  \n",
            "  inflating: content/images/170.png  \n",
            "  inflating: content/images/159.png  \n",
            "  inflating: content/images/77.png   \n",
            "  inflating: content/images/140.png  \n",
            "  inflating: content/images/127.png  \n",
            "  inflating: content/images/105.png  \n",
            "  inflating: content/images/23.png   \n",
            "  inflating: content/images/157.png  \n",
            "  inflating: content/images/287.png  \n",
            "  inflating: content/images/137.png  \n",
            "  inflating: content/images/207.png  \n",
            "  inflating: content/images/222.png  \n",
            "  inflating: content/images/272.png  \n",
            "  inflating: content/images/236.png  \n",
            "  inflating: content/images/54.png   \n",
            "  inflating: content/images/266.png  \n",
            "  inflating: content/images/103.png  \n",
            "  inflating: content/images/251.png  \n",
            "  inflating: content/images/278.png  \n",
            "  inflating: content/images/97.png   \n",
            "  inflating: content/images/38.png   \n",
            "  inflating: content/images/279.png  \n",
            "  inflating: content/images/217.png  \n",
            "  inflating: content/images/123.png  \n",
            "  inflating: content/images/56.png   \n",
            " extracting: content/images/untitled  \n",
            "  inflating: content/images/199.png  \n",
            "  inflating: content/images/173.png  \n",
            "  inflating: content/images/274.png  \n",
            "  inflating: content/images/128.png  \n",
            "  inflating: content/images/5.png    \n",
            "  inflating: content/images/16.png   \n",
            "  inflating: content/images/182.png  \n",
            "  inflating: content/images/190.png  \n",
            "  inflating: content/images/211.png  \n",
            "  inflating: content/images/221.png  \n",
            "  inflating: content/images/41.png   \n",
            "  inflating: content/images/12.png   \n",
            "  inflating: content/images/151.png  \n",
            "  inflating: content/images/280.png  \n",
            "  inflating: content/images/252.png  \n",
            "  inflating: content/images/13.png   \n",
            "  inflating: content/images/253.png  \n",
            "  inflating: content/images/163.png  \n",
            "  inflating: content/images/169.png  \n",
            "  inflating: content/images/110.png  \n",
            "  inflating: content/images/50.png   \n",
            "  inflating: content/images/196.png  \n",
            "  inflating: content/images/47.png   \n",
            "  inflating: content/images/201.png  \n",
            "  inflating: content/images/181.png  \n",
            "  inflating: content/images/87.png   \n",
            "  inflating: content/images/176.png  \n",
            "  inflating: content/images/179.png  \n",
            "  inflating: content/images/98.png   \n",
            "  inflating: content/images/94.png   \n",
            "  inflating: content/images/64.png   \n",
            "  inflating: content/images/189.png  \n",
            "  inflating: content/images/259.png  \n",
            "  inflating: content/images/298.png  \n",
            "  inflating: content/images/233.png  \n",
            "  inflating: content/images/184.png  \n",
            "  inflating: content/images/296.png  \n",
            "  inflating: content/images/51.png   \n",
            "  inflating: content/images/178.png  \n",
            "  inflating: content/images/18.png   \n",
            "  inflating: content/images/20.png   \n",
            "  inflating: content/images/116.png  \n",
            "  inflating: content/images/281.png  \n",
            "  inflating: content/images/292.png  \n",
            "  inflating: content/images/58.png   \n",
            "  inflating: content/images/30.png   \n",
            "  inflating: content/images/31.png   \n",
            "  inflating: content/images/224.png  \n",
            "  inflating: content/images/156.png  \n",
            "  inflating: content/images/228.png  \n",
            "  inflating: content/images/227.png  \n",
            "  inflating: content/images/177.png  \n",
            "  inflating: content/images/15.png   \n",
            "  inflating: content/images/126.png  \n",
            "  inflating: content/images/149.png  \n",
            "  inflating: content/images/65.png   \n",
            "  inflating: content/images/216.png  \n",
            "  inflating: content/images/125.png  \n",
            "  inflating: content/images/239.png  \n",
            "  inflating: content/images/192.png  \n",
            "  inflating: content/images/223.png  \n",
            "  inflating: content/images/261.png  \n",
            "  inflating: content/images/118.png  \n",
            "  inflating: content/images/242.png  \n",
            "  inflating: content/images/186.png  \n",
            "  inflating: content/images/219.png  \n",
            "  inflating: content/images/164.png  \n",
            "  inflating: content/images/145.png  \n",
            "  inflating: content/images/158.png  \n",
            "  inflating: content/images/9.png    \n",
            "  inflating: content/images/111.png  \n",
            "  inflating: content/images/34.png   \n",
            "  inflating: content/images/138.png  \n",
            "  inflating: content/images/243.png  \n",
            "  inflating: content/images/139.png  \n",
            "  inflating: content/images/46.png   \n",
            "  inflating: content/images/265.png  \n",
            "  inflating: content/images/48.png   \n",
            "  inflating: content/images/45.png   \n",
            "  inflating: content/images/33.png   \n",
            "  inflating: content/images/197.png  \n",
            "  inflating: content/images/101.png  \n",
            "  inflating: content/images/99.png   \n",
            "  inflating: content/images/24.png   \n",
            "  inflating: content/images/174.png  \n",
            "  inflating: content/images/286.png  \n",
            "  inflating: content/images/258.png  \n",
            "  inflating: content/images/206.png  \n",
            "  inflating: content/images/248.png  \n",
            "  inflating: content/images/147.png  \n",
            "  inflating: content/images/148.png  \n",
            "  inflating: content/images/257.png  \n",
            "  inflating: content/images/61.png   \n",
            "  inflating: content/images/167.png  \n",
            "  inflating: content/images/155.png  \n",
            "  inflating: content/images/152.png  \n",
            "  inflating: content/images/10.png   \n",
            "  inflating: content/images/171.png  \n",
            "  inflating: content/images/194.png  \n",
            "  inflating: content/images/150.png  \n",
            "  inflating: content/images/81.png   \n",
            "  inflating: content/images/78.png   \n",
            "  inflating: content/images/263.png  \n",
            "  inflating: content/images/134.png  \n",
            "  inflating: content/images/203.png  \n",
            "  inflating: content/images/83.png   \n",
            "  inflating: content/images/262.png  \n",
            "  inflating: content/images/275.png  \n",
            "  inflating: content/images/109.png  \n",
            "  inflating: content/images/240.png  \n",
            "  inflating: content/images/144.png  \n",
            "  inflating: content/images/289.png  \n",
            "  inflating: content/images/120.png  \n",
            "  inflating: content/images/195.png  \n",
            "  inflating: content/images/49.png   \n",
            "  inflating: content/images/208.png  \n",
            "  inflating: content/images/25.png   \n",
            "  inflating: content/images/295.png  \n",
            "  inflating: content/images/290.png  \n",
            "  inflating: content/images/232.png  \n",
            "  inflating: content/images/112.png  \n",
            "  inflating: content/images/22.png   \n",
            "  inflating: content/images/91.png   \n",
            "  inflating: content/images/29.png   \n",
            "  inflating: content/images/114.png  \n",
            "  inflating: content/images/172.png  \n",
            "  inflating: content/images/84.png   \n",
            "  inflating: content/images/166.png  \n",
            "  inflating: content/images/294.png  \n",
            "  inflating: content/images/96.png   \n",
            "  inflating: content/images/100.png  \n",
            "  inflating: content/images/254.png  \n",
            "  inflating: content/images/230.png  \n",
            "  inflating: content/images/72.png   \n",
            "  inflating: content/images/43.png   \n",
            "  inflating: content/images/115.png  \n",
            "  inflating: content/images/129.png  \n",
            "  inflating: content/images/42.png   \n",
            "  inflating: content/images/153.png  \n",
            "  inflating: content/images/63.png   \n",
            "  inflating: content/images/202.png  \n",
            "  inflating: content/images/154.png  \n",
            "  inflating: content/images/234.png  \n",
            "  inflating: content/images/188.png  \n",
            "  inflating: content/images/215.png  \n",
            "  inflating: content/images/270.png  \n",
            "  inflating: content/images/32.png   \n",
            "  inflating: content/images/76.png   \n",
            "  inflating: content/images/88.png   \n",
            "  inflating: content/images/143.png  \n",
            "  inflating: content/images/285.png  \n",
            "  inflating: content/images/73.png   \n",
            "  inflating: content/images/57.png   \n",
            "  inflating: content/images/53.png   \n",
            "  inflating: content/images/267.png  \n",
            "  inflating: content/images/220.png  \n",
            "  inflating: content/images/82.png   \n",
            "  inflating: content/images/36.png   \n",
            "  inflating: content/images/238.png  \n",
            "  inflating: content/images/122.png  \n",
            "  inflating: content/images/74.png   \n",
            "  inflating: content/images/92.png   \n",
            "  inflating: content/images/106.png  \n",
            "  inflating: content/images/288.png  \n",
            "  inflating: content/images/3.png    \n",
            "  inflating: content/images/80.png   \n",
            "  inflating: content/images/119.png  \n",
            "  inflating: content/images/293.png  \n",
            "  inflating: content/images/52.png   \n",
            "  inflating: content/images/160.png  \n",
            "  inflating: content/images/130.png  \n",
            "  inflating: content/images/161.png  \n",
            "  inflating: content/images/250.png  \n",
            "  inflating: content/images/37.png   \n",
            "  inflating: content/images/6.png    \n",
            "  inflating: content/images/229.png  \n",
            "  inflating: content/images/260.png  \n",
            "  inflating: content/images/282.png  \n",
            "  inflating: content/images/95.png   \n",
            "  inflating: content/images/11.png   \n",
            "  inflating: content/images/66.png   \n",
            "  inflating: content/images/4.png    \n",
            "  inflating: content/images/102.png  \n",
            "  inflating: content/images/212.png  \n",
            "  inflating: content/images/107.png  \n",
            "  inflating: content/images/55.png   \n",
            "  inflating: content/images/268.png  \n",
            "  inflating: content/images/191.png  \n",
            "  inflating: content/images/19.png   \n",
            "  inflating: content/images/132.png  \n",
            "  inflating: content/images/35.png   \n",
            "  inflating: content/images/284.png  \n",
            "  inflating: content/images/17.png   \n",
            "  inflating: content/images/69.png   \n",
            "  inflating: content/images/86.png   \n",
            "  inflating: content/images/183.png  \n",
            "  inflating: content/images/225.png  \n",
            "  inflating: content/images/226.png  \n",
            "  inflating: content/images/121.png  \n",
            "  inflating: content/images/79.png   \n",
            "  inflating: content/images/213.png  \n",
            "  inflating: content/images/90.png   \n",
            "  inflating: content/images/21.png   \n",
            "  inflating: content/images/26.png   \n",
            "  inflating: content/images/276.png  \n",
            "  inflating: content/images/291.png  \n",
            "  inflating: content/images/210.png  \n",
            "  inflating: content/images/231.png  \n",
            "  inflating: content/images/104.png  \n",
            "  inflating: content/images/1.png    \n"
          ]
        }
      ]
    }
  ]
}