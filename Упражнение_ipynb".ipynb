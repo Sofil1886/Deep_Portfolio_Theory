{
  "nbformat": 4,
  "nbformat_minor": 0,
  "metadata": {
    "colab": {
      "provenance": [],
      "collapsed_sections": [
        "uL05LyTRRysR",
        "C-2wExSox_Xt",
        "YQMwt_Fg3bZ0",
        "MA2cBKqOZE37",
        "iPsuGcB94ecM"
      ],
      "toc_visible": true,
      "authorship_tag": "ABX9TyPMSknAEbIvRovz7MU8vYbz",
      "include_colab_link": true
    },
    "kernelspec": {
      "name": "python3",
      "display_name": "Python 3"
    },
    "language_info": {
      "name": "python"
    }
  },
  "cells": [
    {
      "cell_type": "markdown",
      "metadata": {
        "id": "view-in-github",
        "colab_type": "text"
      },
      "source": [
        "<a href=\"https://colab.research.google.com/github/Sofil1886/Deep_Portfolio_Theory/blob/master/%D0%A3%D0%BF%D1%80%D0%B0%D0%B6%D0%BD%D0%B5%D0%BD%D0%B8%D0%B5_ipynb%22.ipynb\" target=\"_parent\"><img src=\"https://colab.research.google.com/assets/colab-badge.svg\" alt=\"Open In Colab\"/></a>"
      ]
    },
    {
      "cell_type": "code",
      "execution_count": 2,
      "metadata": {
        "colab": {
          "base_uri": "https://localhost:8080/",
          "height": 1000
        },
        "id": "c47kp6EeBxAd",
        "outputId": "f22c4d78-dc63-47ec-f714-8113ca1bf2ba"
      },
      "outputs": [
        {
          "output_type": "stream",
          "name": "stdout",
          "text": [
            "Looking in indexes: https://pypi.org/simple, https://us-python.pkg.dev/colab-wheels/public/simple/\n",
            "Collecting Nasdaq-Data-Link\n",
            "  Downloading Nasdaq_Data_Link-1.0.4-py2.py3-none-any.whl (28 kB)\n",
            "Requirement already satisfied: numpy>=1.8 in /usr/local/lib/python3.7/dist-packages (from Nasdaq-Data-Link) (1.21.6)\n",
            "Requirement already satisfied: pandas>=0.14 in /usr/local/lib/python3.7/dist-packages (from Nasdaq-Data-Link) (1.3.5)\n",
            "Requirement already satisfied: six in /usr/local/lib/python3.7/dist-packages (from Nasdaq-Data-Link) (1.15.0)\n",
            "Requirement already satisfied: python-dateutil in /usr/local/lib/python3.7/dist-packages (from Nasdaq-Data-Link) (2.8.2)\n",
            "Requirement already satisfied: requests>=2.7.0 in /usr/local/lib/python3.7/dist-packages (from Nasdaq-Data-Link) (2.23.0)\n",
            "Collecting inflection>=0.3.1\n",
            "  Downloading inflection-0.5.1-py2.py3-none-any.whl (9.5 kB)\n",
            "Requirement already satisfied: more-itertools in /usr/local/lib/python3.7/dist-packages (from Nasdaq-Data-Link) (8.14.0)\n",
            "Requirement already satisfied: pytz>=2017.3 in /usr/local/lib/python3.7/dist-packages (from pandas>=0.14->Nasdaq-Data-Link) (2022.2.1)\n",
            "Requirement already satisfied: chardet<4,>=3.0.2 in /usr/local/lib/python3.7/dist-packages (from requests>=2.7.0->Nasdaq-Data-Link) (3.0.4)\n",
            "Requirement already satisfied: urllib3!=1.25.0,!=1.25.1,<1.26,>=1.21.1 in /usr/local/lib/python3.7/dist-packages (from requests>=2.7.0->Nasdaq-Data-Link) (1.24.3)\n",
            "Requirement already satisfied: certifi>=2017.4.17 in /usr/local/lib/python3.7/dist-packages (from requests>=2.7.0->Nasdaq-Data-Link) (2022.6.15)\n",
            "Requirement already satisfied: idna<3,>=2.5 in /usr/local/lib/python3.7/dist-packages (from requests>=2.7.0->Nasdaq-Data-Link) (2.10)\n",
            "Installing collected packages: inflection, Nasdaq-Data-Link\n",
            "Successfully installed Nasdaq-Data-Link-1.0.4 inflection-0.5.1\n",
            "Looking in indexes: https://pypi.org/simple, https://us-python.pkg.dev/colab-wheels/public/simple/\n",
            "Collecting yfinance\n",
            "  Downloading yfinance-0.1.75-py2.py3-none-any.whl (28 kB)\n",
            "Requirement already satisfied: multitasking>=0.0.7 in /usr/local/lib/python3.7/dist-packages (from yfinance) (0.0.11)\n",
            "Requirement already satisfied: appdirs>=1.4.4 in /usr/local/lib/python3.7/dist-packages (from yfinance) (1.4.4)\n",
            "Requirement already satisfied: lxml>=4.5.1 in /usr/local/lib/python3.7/dist-packages (from yfinance) (4.9.1)\n",
            "Requirement already satisfied: pandas>=0.24.0 in /usr/local/lib/python3.7/dist-packages (from yfinance) (1.3.5)\n",
            "Requirement already satisfied: numpy>=1.15 in /usr/local/lib/python3.7/dist-packages (from yfinance) (1.21.6)\n",
            "Collecting requests>=2.26\n",
            "  Downloading requests-2.28.1-py3-none-any.whl (62 kB)\n",
            "\u001b[K     |████████████████████████████████| 62 kB 1.3 MB/s \n",
            "\u001b[?25hRequirement already satisfied: python-dateutil>=2.7.3 in /usr/local/lib/python3.7/dist-packages (from pandas>=0.24.0->yfinance) (2.8.2)\n",
            "Requirement already satisfied: pytz>=2017.3 in /usr/local/lib/python3.7/dist-packages (from pandas>=0.24.0->yfinance) (2022.2.1)\n",
            "Requirement already satisfied: six>=1.5 in /usr/local/lib/python3.7/dist-packages (from python-dateutil>=2.7.3->pandas>=0.24.0->yfinance) (1.15.0)\n",
            "Requirement already satisfied: idna<4,>=2.5 in /usr/local/lib/python3.7/dist-packages (from requests>=2.26->yfinance) (2.10)\n",
            "Requirement already satisfied: urllib3<1.27,>=1.21.1 in /usr/local/lib/python3.7/dist-packages (from requests>=2.26->yfinance) (1.24.3)\n",
            "Requirement already satisfied: charset-normalizer<3,>=2 in /usr/local/lib/python3.7/dist-packages (from requests>=2.26->yfinance) (2.1.1)\n",
            "Requirement already satisfied: certifi>=2017.4.17 in /usr/local/lib/python3.7/dist-packages (from requests>=2.26->yfinance) (2022.6.15)\n",
            "Installing collected packages: requests, yfinance\n",
            "  Attempting uninstall: requests\n",
            "    Found existing installation: requests 2.23.0\n",
            "    Uninstalling requests-2.23.0:\n",
            "      Successfully uninstalled requests-2.23.0\n",
            "Successfully installed requests-2.28.1 yfinance-0.1.75\n",
            "Looking in indexes: https://pypi.org/simple, https://us-python.pkg.dev/colab-wheels/public/simple/\n",
            "Collecting talib-binary\n",
            "  Downloading talib_binary-0.4.19-cp37-cp37m-manylinux1_x86_64.whl (2.4 MB)\n",
            "\u001b[K     |████████████████████████████████| 2.4 MB 6.8 MB/s \n",
            "\u001b[?25hRequirement already satisfied: numpy in /usr/local/lib/python3.7/dist-packages (from talib-binary) (1.21.6)\n",
            "Installing collected packages: talib-binary\n",
            "Successfully installed talib-binary-0.4.19\n",
            "Looking in indexes: https://pypi.org/simple, https://us-python.pkg.dev/colab-wheels/public/simple/\n",
            "Collecting fastquant\n",
            "  Downloading fastquant-0.1.8.0-py3-none-any.whl (5.9 MB)\n",
            "\u001b[K     |████████████████████████████████| 5.9 MB 6.6 MB/s \n",
            "\u001b[?25hCollecting pre-commit\n",
            "  Downloading pre_commit-2.20.0-py2.py3-none-any.whl (199 kB)\n",
            "\u001b[K     |████████████████████████████████| 199 kB 42.4 MB/s \n",
            "\u001b[?25hRequirement already satisfied: PySocks>=1.7.1 in /usr/local/lib/python3.7/dist-packages (from fastquant) (1.7.1)\n",
            "Requirement already satisfied: idna>=2.8 in /usr/local/lib/python3.7/dist-packages (from fastquant) (2.10)\n",
            "Requirement already satisfied: numpy>=1.18.0 in /usr/local/lib/python3.7/dist-packages (from fastquant) (1.21.6)\n",
            "Requirement already satisfied: six>=1.13.0 in /usr/local/lib/python3.7/dist-packages (from fastquant) (1.15.0)\n",
            "Requirement already satisfied: matplotlib>=3.2.2 in /usr/local/lib/python3.7/dist-packages (from fastquant) (3.2.2)\n",
            "Collecting urllib3>=1.25.7\n",
            "  Downloading urllib3-1.26.12-py2.py3-none-any.whl (140 kB)\n",
            "\u001b[K     |████████████████████████████████| 140 kB 43.2 MB/s \n",
            "\u001b[?25hRequirement already satisfied: certifi>=2019.11.28 in /usr/local/lib/python3.7/dist-packages (from fastquant) (2022.6.15)\n",
            "Collecting ccxt>=1.31.1\n",
            "  Downloading ccxt-1.95.7-py2.py3-none-any.whl (3.5 MB)\n",
            "\u001b[K     |████████████████████████████████| 3.5 MB 45.3 MB/s \n",
            "\u001b[?25hRequirement already satisfied: nltk>=3.5 in /usr/local/lib/python3.7/dist-packages (from fastquant) (3.7)\n",
            "Requirement already satisfied: tweepy>=3.8.0 in /usr/local/lib/python3.7/dist-packages (from fastquant) (3.10.0)\n",
            "Requirement already satisfied: oauthlib>=3.1.0 in /usr/local/lib/python3.7/dist-packages (from fastquant) (3.2.0)\n",
            "Collecting soupsieve>=1.9.5\n",
            "  Downloading soupsieve-2.3.2.post1-py3-none-any.whl (37 kB)\n",
            "Requirement already satisfied: chardet>=3.0.4 in /usr/local/lib/python3.7/dist-packages (from fastquant) (3.0.4)\n",
            "Collecting beautifulsoup4>=4.8.2\n",
            "  Downloading beautifulsoup4-4.11.1-py3-none-any.whl (128 kB)\n",
            "\u001b[K     |████████████████████████████████| 128 kB 63.2 MB/s \n",
            "\u001b[?25hRequirement already satisfied: yfinance>=0.1.54 in /usr/local/lib/python3.7/dist-packages (from fastquant) (0.1.75)\n",
            "Requirement already satisfied: bs4>=0.0.1 in /usr/local/lib/python3.7/dist-packages (from fastquant) (0.0.1)\n",
            "Requirement already satisfied: tqdm>=4.28.1 in /usr/local/lib/python3.7/dist-packages (from fastquant) (4.64.1)\n",
            "Collecting black>=19.10b0\n",
            "  Downloading black-22.8.0-cp37-cp37m-manylinux_2_17_x86_64.manylinux2014_x86_64.whl (1.5 MB)\n",
            "\u001b[K     |████████████████████████████████| 1.5 MB 53.3 MB/s \n",
            "\u001b[?25hRequirement already satisfied: requests>=2.22.0 in /usr/local/lib/python3.7/dist-packages (from fastquant) (2.28.1)\n",
            "Requirement already satisfied: scipy in /usr/local/lib/python3.7/dist-packages (from fastquant) (1.7.3)\n",
            "Collecting croniter>=0.3.35\n",
            "  Downloading croniter-1.3.7-py2.py3-none-any.whl (17 kB)\n",
            "Requirement already satisfied: pytz>=2019.3 in /usr/local/lib/python3.7/dist-packages (from fastquant) (2022.2.1)\n",
            "Requirement already satisfied: python-dateutil>=2.8.1 in /usr/local/lib/python3.7/dist-packages (from fastquant) (2.8.2)\n",
            "Requirement already satisfied: requests-oauthlib>=1.3.0 in /usr/local/lib/python3.7/dist-packages (from fastquant) (1.3.1)\n",
            "Collecting backtrader>=1.9.75.123\n",
            "  Downloading backtrader-1.9.76.123-py2.py3-none-any.whl (410 kB)\n",
            "\u001b[K     |████████████████████████████████| 410 kB 45.9 MB/s \n",
            "\u001b[?25hRequirement already satisfied: networkx>=2.4 in /usr/local/lib/python3.7/dist-packages (from fastquant) (2.6.3)\n",
            "Collecting pandas==1.1.5\n",
            "  Downloading pandas-1.1.5-cp37-cp37m-manylinux1_x86_64.whl (9.5 MB)\n",
            "\u001b[K     |████████████████████████████████| 9.5 MB 51.3 MB/s \n",
            "\u001b[?25hRequirement already satisfied: lxml>=4.6.2 in /usr/local/lib/python3.7/dist-packages (from fastquant) (4.9.1)\n",
            "Requirement already satisfied: typing-extensions>=3.10.0.0 in /usr/local/lib/python3.7/dist-packages (from black>=19.10b0->fastquant) (4.1.1)\n",
            "Collecting click>=8.0.0\n",
            "  Downloading click-8.1.3-py3-none-any.whl (96 kB)\n",
            "\u001b[K     |████████████████████████████████| 96 kB 6.1 MB/s \n",
            "\u001b[?25hRequirement already satisfied: tomli>=1.1.0 in /usr/local/lib/python3.7/dist-packages (from black>=19.10b0->fastquant) (2.0.1)\n",
            "Collecting mypy-extensions>=0.4.3\n",
            "  Downloading mypy_extensions-0.4.3-py2.py3-none-any.whl (4.5 kB)\n",
            "Collecting pathspec>=0.9.0\n",
            "  Downloading pathspec-0.10.1-py3-none-any.whl (27 kB)\n",
            "Collecting platformdirs>=2\n",
            "  Downloading platformdirs-2.5.2-py3-none-any.whl (14 kB)\n",
            "Collecting typed-ast>=1.4.2\n",
            "  Downloading typed_ast-1.5.4-cp37-cp37m-manylinux_2_5_x86_64.manylinux1_x86_64.manylinux_2_12_x86_64.manylinux2010_x86_64.whl (843 kB)\n",
            "\u001b[K     |████████████████████████████████| 843 kB 59.5 MB/s \n",
            "\u001b[?25hCollecting setuptools>=60.9.0\n",
            "  Downloading setuptools-65.4.1-py3-none-any.whl (1.2 MB)\n",
            "\u001b[K     |████████████████████████████████| 1.2 MB 46.3 MB/s \n",
            "\u001b[?25hCollecting yarl==1.7.2\n",
            "  Downloading yarl-1.7.2-cp37-cp37m-manylinux_2_5_x86_64.manylinux1_x86_64.manylinux_2_12_x86_64.manylinux2010_x86_64.whl (271 kB)\n",
            "\u001b[K     |████████████████████████████████| 271 kB 60.7 MB/s \n",
            "\u001b[?25hRequirement already satisfied: aiohttp>=3.8 in /usr/local/lib/python3.7/dist-packages (from ccxt>=1.31.1->fastquant) (3.8.1)\n",
            "Collecting aiodns>=1.1.1\n",
            "  Downloading aiodns-3.0.0-py3-none-any.whl (5.0 kB)\n",
            "Collecting cryptography>=2.6.1\n",
            "  Downloading cryptography-38.0.1-cp36-abi3-manylinux_2_24_x86_64.whl (4.0 MB)\n",
            "\u001b[K     |████████████████████████████████| 4.0 MB 31.5 MB/s \n",
            "\u001b[?25hRequirement already satisfied: multidict>=4.0 in /usr/local/lib/python3.7/dist-packages (from yarl==1.7.2->ccxt>=1.31.1->fastquant) (6.0.2)\n",
            "Collecting pycares>=4.0.0\n",
            "  Downloading pycares-4.2.2-cp37-cp37m-manylinux_2_17_x86_64.manylinux2014_x86_64.whl (288 kB)\n",
            "\u001b[K     |████████████████████████████████| 288 kB 15.5 MB/s \n",
            "\u001b[?25hRequirement already satisfied: aiosignal>=1.1.2 in /usr/local/lib/python3.7/dist-packages (from aiohttp>=3.8->ccxt>=1.31.1->fastquant) (1.2.0)\n",
            "Requirement already satisfied: frozenlist>=1.1.1 in /usr/local/lib/python3.7/dist-packages (from aiohttp>=3.8->ccxt>=1.31.1->fastquant) (1.3.1)\n",
            "Requirement already satisfied: asynctest==0.13.0 in /usr/local/lib/python3.7/dist-packages (from aiohttp>=3.8->ccxt>=1.31.1->fastquant) (0.13.0)\n",
            "Requirement already satisfied: async-timeout<5.0,>=4.0.0a3 in /usr/local/lib/python3.7/dist-packages (from aiohttp>=3.8->ccxt>=1.31.1->fastquant) (4.0.2)\n",
            "Requirement already satisfied: charset-normalizer<3.0,>=2.0 in /usr/local/lib/python3.7/dist-packages (from aiohttp>=3.8->ccxt>=1.31.1->fastquant) (2.1.1)\n",
            "Requirement already satisfied: attrs>=17.3.0 in /usr/local/lib/python3.7/dist-packages (from aiohttp>=3.8->ccxt>=1.31.1->fastquant) (22.1.0)\n",
            "Requirement already satisfied: importlib-metadata in /usr/local/lib/python3.7/dist-packages (from click>=8.0.0->black>=19.10b0->fastquant) (4.12.0)\n",
            "Requirement already satisfied: cffi>=1.12 in /usr/local/lib/python3.7/dist-packages (from cryptography>=2.6.1->ccxt>=1.31.1->fastquant) (1.15.1)\n",
            "Requirement already satisfied: pycparser in /usr/local/lib/python3.7/dist-packages (from cffi>=1.12->cryptography>=2.6.1->ccxt>=1.31.1->fastquant) (2.21)\n",
            "Requirement already satisfied: kiwisolver>=1.0.1 in /usr/local/lib/python3.7/dist-packages (from matplotlib>=3.2.2->fastquant) (1.4.4)\n",
            "Requirement already satisfied: pyparsing!=2.0.4,!=2.1.2,!=2.1.6,>=2.0.1 in /usr/local/lib/python3.7/dist-packages (from matplotlib>=3.2.2->fastquant) (3.0.9)\n",
            "Requirement already satisfied: cycler>=0.10 in /usr/local/lib/python3.7/dist-packages (from matplotlib>=3.2.2->fastquant) (0.11.0)\n",
            "Requirement already satisfied: joblib in /usr/local/lib/python3.7/dist-packages (from nltk>=3.5->fastquant) (1.1.0)\n",
            "Requirement already satisfied: regex>=2021.8.3 in /usr/local/lib/python3.7/dist-packages (from nltk>=3.5->fastquant) (2022.6.2)\n",
            "Requirement already satisfied: multitasking>=0.0.7 in /usr/local/lib/python3.7/dist-packages (from yfinance>=0.1.54->fastquant) (0.0.11)\n",
            "Requirement already satisfied: appdirs>=1.4.4 in /usr/local/lib/python3.7/dist-packages (from yfinance>=0.1.54->fastquant) (1.4.4)\n",
            "Requirement already satisfied: zipp>=0.5 in /usr/local/lib/python3.7/dist-packages (from importlib-metadata->click>=8.0.0->black>=19.10b0->fastquant) (3.8.1)\n",
            "Collecting identify>=1.0.0\n",
            "  Downloading identify-2.5.6-py2.py3-none-any.whl (98 kB)\n",
            "\u001b[K     |████████████████████████████████| 98 kB 6.2 MB/s \n",
            "\u001b[?25hRequirement already satisfied: pyyaml>=5.1 in /usr/local/lib/python3.7/dist-packages (from pre-commit->fastquant) (6.0)\n",
            "Collecting virtualenv>=20.0.8\n",
            "  Downloading virtualenv-20.16.5-py3-none-any.whl (8.8 MB)\n",
            "\u001b[K     |████████████████████████████████| 8.8 MB 29.1 MB/s \n",
            "\u001b[?25hCollecting nodeenv>=0.11.1\n",
            "  Downloading nodeenv-1.7.0-py2.py3-none-any.whl (21 kB)\n",
            "Collecting cfgv>=2.0.0\n",
            "  Downloading cfgv-3.3.1-py2.py3-none-any.whl (7.3 kB)\n",
            "Requirement already satisfied: toml in /usr/local/lib/python3.7/dist-packages (from pre-commit->fastquant) (0.10.2)\n",
            "Collecting distlib<1,>=0.3.5\n",
            "  Downloading distlib-0.3.6-py2.py3-none-any.whl (468 kB)\n",
            "\u001b[K     |████████████████████████████████| 468 kB 48.2 MB/s \n",
            "\u001b[?25hRequirement already satisfied: filelock<4,>=3.4.1 in /usr/local/lib/python3.7/dist-packages (from virtualenv>=20.0.8->pre-commit->fastquant) (3.8.0)\n",
            "Installing collected packages: urllib3, yarl, soupsieve, setuptools, pycares, platformdirs, distlib, virtualenv, typed-ast, pathspec, pandas, nodeenv, mypy-extensions, identify, cryptography, click, cfgv, beautifulsoup4, aiodns, pre-commit, croniter, ccxt, black, backtrader, fastquant\n",
            "  Attempting uninstall: urllib3\n",
            "    Found existing installation: urllib3 1.24.3\n",
            "    Uninstalling urllib3-1.24.3:\n",
            "      Successfully uninstalled urllib3-1.24.3\n",
            "  Attempting uninstall: yarl\n",
            "    Found existing installation: yarl 1.8.1\n",
            "    Uninstalling yarl-1.8.1:\n",
            "      Successfully uninstalled yarl-1.8.1\n",
            "  Attempting uninstall: setuptools\n",
            "    Found existing installation: setuptools 57.4.0\n",
            "    Uninstalling setuptools-57.4.0:\n",
            "      Successfully uninstalled setuptools-57.4.0\n",
            "  Attempting uninstall: pandas\n",
            "    Found existing installation: pandas 1.3.5\n",
            "    Uninstalling pandas-1.3.5:\n",
            "      Successfully uninstalled pandas-1.3.5\n",
            "  Attempting uninstall: click\n",
            "    Found existing installation: click 7.1.2\n",
            "    Uninstalling click-7.1.2:\n",
            "      Successfully uninstalled click-7.1.2\n",
            "  Attempting uninstall: beautifulsoup4\n",
            "    Found existing installation: beautifulsoup4 4.6.3\n",
            "    Uninstalling beautifulsoup4-4.6.3:\n",
            "      Successfully uninstalled beautifulsoup4-4.6.3\n",
            "\u001b[31mERROR: pip's dependency resolver does not currently take into account all the packages that are installed. This behaviour is the source of the following dependency conflicts.\n",
            "ipython 7.9.0 requires jedi>=0.10, which is not installed.\n",
            "numba 0.56.2 requires setuptools<60, but you have setuptools 65.4.1 which is incompatible.\n",
            "flask 1.1.4 requires click<8.0,>=5.1, but you have click 8.1.3 which is incompatible.\u001b[0m\n",
            "Successfully installed aiodns-3.0.0 backtrader-1.9.76.123 beautifulsoup4-4.11.1 black-22.8.0 ccxt-1.95.7 cfgv-3.3.1 click-8.1.3 croniter-1.3.7 cryptography-38.0.1 distlib-0.3.6 fastquant-0.1.8.0 identify-2.5.6 mypy-extensions-0.4.3 nodeenv-1.7.0 pandas-1.1.5 pathspec-0.10.1 platformdirs-2.5.2 pre-commit-2.20.0 pycares-4.2.2 setuptools-65.4.1 soupsieve-2.3.2.post1 typed-ast-1.5.4 urllib3-1.26.12 virtualenv-20.16.5 yarl-1.7.2\n"
          ]
        },
        {
          "output_type": "display_data",
          "data": {
            "application/vnd.colab-display-data+json": {
              "pip_warning": {
                "packages": [
                  "pkg_resources"
                ]
              }
            }
          },
          "metadata": {}
        }
      ],
      "source": [
        "!pip install Nasdaq-Data-Link\n",
        "!pip install yfinance\n",
        "!pip install talib-binary\n",
        "!pip install fastquant"
      ]
    },
    {
      "cell_type": "code",
      "source": [
        "import pandas as pd\n",
        "import nasdaqdatalink\n",
        "import talib\n",
        "import pandas_datareader as pdr\n",
        "import datetime\n",
        "import plotly.express as px\n",
        "import yfinance as yf\n",
        "import numpy as np\n",
        "import matplotlib.pyplot as plt\n",
        "from tensorflow import keras\n",
        "from tensorflow.keras.layers import Dense\n",
        "import numpy as np\n",
        "import matplotlib.pyplot as plt\n",
        "import pandas as pd\n",
        "from sklearn.preprocessing import MinMaxScaler\n",
        "from keras.models import Sequential\n",
        "from keras.layers import Dense\n",
        "from keras.layers import LSTM\n",
        "from keras.layers import Dropout\n",
        "from keras.models import Sequential\n",
        "from keras.layers.core import Dense, Dropout, Activation, Flatten\n",
        "from tensorflow.keras.layers import BatchNormalization\n",
        "from keras.callbacks import ModelCheckpoint, ReduceLROnPlateau, CSVLogger, EarlyStopping\n",
        "from tensorflow.keras.optimizers import RMSprop, Adam, SGD, Nadam\n",
        "from keras.layers.advanced_activations import *\n",
        "from keras.layers.recurrent import LSTM, GRU\n",
        "from keras import regularizers\n",
        "import tensorflow as tf\n",
        "tf.keras.utils.to_categorical\n",
        "from tensorflow.keras import layers\n",
        "from sklearn.preprocessing import StandardScaler\n",
        "from tensorflow.keras.losses import categorical_crossentropy\n",
        "from keras.models import Model\n",
        "from sklearn.model_selection import train_test_split\n",
        "import talib\n",
        "from dateutil.parser import parse as du_parse\n",
        "from dateutil.relativedelta import relativedelta"
      ],
      "metadata": {
        "id": "-rjwB941B3Is"
      },
      "execution_count": null,
      "outputs": []
    },
    {
      "cell_type": "markdown",
      "source": [
        "# Загрузка данных"
      ],
      "metadata": {
        "id": "FZB1VeET2nc3"
      }
    },
    {
      "cell_type": "code",
      "source": [
        "start = datetime.datetime (2003, 1, 1)\n",
        "end = datetime.datetime (2012, 12, 31)\n",
        "\n",
        "def as_of_1BM(df):\n",
        "   df.index = pd.to_datetime(df.index) - pd.to_timedelta('5 day')\n",
        "   df = df.resample('1BM').last()\n",
        "   return df\n",
        "\n",
        "                                                                    #   ИНДИКАТОРЫ-ОЖИДАНИЯБ ПРОИЗВОДСТВА\n",
        "\n",
        "PMI = nasdaqdatalink.get(\"ISM/MAN_PMI\", authtoken=\"ozjjWbTgDPPCBtBWJW7d\").resample('1BM').last() # (Monthly_start)\n",
        "ISM = nasdaqdatalink.get(\"FRED/NAPMCI\", authtoken=\"ozjjWbTgDPPCBtBWJW7d\").resample('1BM').last() # (Monthly_start)\n",
        "ISM = ISM.rename(columns={'VALUE':'ISM'})\n",
        "\n",
        "Michigan = nasdaqdatalink.get(\"UMICH/SOC5\", authtoken=\"ozjjWbTgDPPCBtBWJW7d\") #   Monthly_end\n",
        "Michigan = as_of_1BM(Michigan)\n",
        "\n",
        "Consumer_Sentiment = nasdaqdatalink.get(\"UMICH/SOC1\", authtoken=\"ozjjWbTgDPPCBtBWJW7d\")#   Monthly_end индекс ожидания потребителей - опережающий показатель\n",
        "Consumer_Sentiment = as_of_1BM(Consumer_Sentiment)\n",
        "Consumer_Sentiment = Consumer_Sentiment.rename(columns={'Index':'Consumer_Sentiment'})\n",
        "\n",
        "Buying_condition_for_vehicle = nasdaqdatalink.get(\"UMICH/SOC37\", authtoken=\"ozjjWbTgDPPCBtBWJW7d\")[['Good time to Buy', 'Bad time to Buy']] #  Monthly_end\n",
        "Buying_condition_for_vehicle = as_of_1BM(Buying_condition_for_vehicle)\n",
        "Buying_condition_for_vehicle = Buying_condition_for_vehicle.rename(columns={'Good time to Buy':'G_Buy_Vech', 'Bad time to Buy':'B_Buy_Vech'})\n",
        "\n",
        "Selling_condition_for_houses = nasdaqdatalink.get(\"UMICH/SOC43\", authtoken=\"ozjjWbTgDPPCBtBWJW7d\")[['Good time to Sell', 'Bad time to Sell']] #  Monthly_end\n",
        "Selling_condition_for_houses = as_of_1BM(Selling_condition_for_houses)\n",
        "\n",
        "Buying_condition_for_houses = nasdaqdatalink.get(\"UMICH/SOC41\", authtoken=\"ozjjWbTgDPPCBtBWJW7d\")[['Good time to Buy', 'Bad time to Buy']] #  Monthly_end\n",
        "Buying_condition_for_houses = as_of_1BM(Buying_condition_for_houses)\n",
        "\n",
        "                                                                # Опережающие экономические индикаторы\n",
        "USSLIND = \"USSLIND\" #https://fred.stlouisfed.org/series/USSLIND\n",
        "Leading_Index_for_USA = pdr.DataReader(USSLIND, 'fred', start, end).resample('1BM').last()  # (Monthly_start)\n",
        "Leading_Index_for_USA = Leading_Index_for_USA.rename(columns={'USSLIND':'Lead_Ind_USA'})\n",
        "\n",
        "CSCICP03USM665S = \"CSCICP03USM665S\" #https://fred.stlouisfed.org/series/CSCICP03USM665S\n",
        "OECD_USA = pdr.DataReader(CSCICP03USM665S, 'fred', start, end).resample('1BM').last() # (Monthly_start)\n",
        "OECD_USA = OECD_USA.rename(columns={'CSCICP03USM665S':'OECD_USA'})\n",
        "\n",
        "\n",
        "STLFSI3 = \"STLFSI3\" #https://fred.stlouisfed.org/series/STLFSI3\n",
        "Financial_Stress_Index = pdr.DataReader(STLFSI3, 'fred', start, end).resample('1BM').last()             # (weekly)\n",
        "Financial_Stress_Index = Financial_Stress_Index.rename(columns={'STLFSI3':'FED_FSI'})\n",
        "\n",
        "\n",
        "                                                              # Строительство\n",
        "MSACSR = \"MSACSR\" #https://fred.stlouisfed.org/series/MSACSR\n",
        "Monthly_Supply_of_New_Houses = pdr.DataReader(MSACSR, 'fred', start, end)\n",
        "Monthly_Supply_of_New_Houses = as_of_1BM(Monthly_Supply_of_New_Houses)                                                                      #  Monthly_end\n",
        "Monthly_Supply_of_New_Houses = Monthly_Supply_of_New_Houses.rename(columns={'MSACSR':'New_Houses'})\n",
        "\n",
        "\n",
        "\n",
        "                                                                  #   ЛИКВИДНОСТЬ\n",
        "balance_serias = \"WALCL\"\n",
        "FED_Assets = pdr.DataReader(balance_serias, 'fred', start, end).resample('1BM').last()                    # (weekly)\n",
        "FED_Assets = FED_Assets.rename(columns={'WALCL':'FED_Assets'})\n",
        "\n",
        "\n",
        "#Get M1 for USA  https://fred.stlouisfed.org/series/M1SL seasonly adjusted\n",
        "money_serias = 'M1SL'\n",
        "M1_USA = pdr.DataReader(money_serias, 'fred', start, end).resample('1BM').last()   # (Monthly_start)\n",
        "M1_USA = M1_USA.rename(columns={'M1SL':'M1'})\n",
        "\n",
        "M2SL = 'M2SL'\n",
        "M2_USA = pdr.DataReader(M2SL, 'fred', start, end).resample('1BM').last() # (Monthly_start)\n",
        "M2_USA = M2_USA.rename(columns={'M2SL':'M2'})\n",
        "\n",
        "RIFSPFFNB = 'RIFSPFFNB'\n",
        "Fed_rate = pdr.DataReader(RIFSPFFNB, 'fred', start, end)                          # (daily)\n",
        "Fed_rate = Fed_rate.rename(columns={'RIFSPFFNB':'Fed_rate'})\n",
        "\n",
        "#Cash assets all commercial banks seasongly adjusted\n",
        "cash_assets_serias = 'CASACBW027SBOG'\n",
        "Cash_Assets = pdr.DataReader(cash_assets_serias, 'fred', start, end).resample('1BM').last()               # (weekly)\n",
        "Cash_Assets = Cash_Assets.rename(columns={'CASACBW027SBOG':'Cash_Assets'})\n",
        "\n",
        "\n",
        "# inflation year to year (monthly)  - https://data.nasdaq.com/data/RATEINF/INFLATION_USA-inflation-yoy-usa\n",
        "inflation_YOY = nasdaqdatalink.get(\"RATEINF/INFLATION_USA\", authtoken=\"ozjjWbTgDPPCBtBWJW7d\")  #  Monthly_end\n",
        "inflation_YOY = inflation_YOY.rename(columns={'Value':'inflation_YOY'})\n",
        "inflation_YOY = as_of_1BM(inflation_YOY)\n",
        "\n",
        "# inflation month to month\n",
        "inflation_MOM = 'CPIAUCNS'  \n",
        "inflation_MOM  = pdr.DataReader(inflation_MOM , 'fred', start, end).resample('1BM').last()   # (Monthly_start)\n",
        "inflation_MOM = inflation_MOM.rename(columns={'CPIAUCNS':'inflation_MOM'})\n",
        "inflation_MOM['inflation_MOM'] = inflation_MOM['inflation_MOM'].pct_change()*100\n",
        "\n",
        "\n",
        "                                                                    # РЫНОК ДОЛГА\n",
        "spread_between_10Y_and_3M = pd.DataFrame()\n",
        "thirty_Y_bonds = yf.download('^TYX', start=start, end=end)[['Close']].rename(columns={'Close':'thirty_Y_bonds'}) #Доходность 30-летних облигаций\n",
        "ten_Y_bonds = yf.download('^TNX', start=start, end=end)[['Close']].rename(columns={'Close':'ten_Y_bonds'}) #Доходность 10-летних облигаций\n",
        "five_Y_bonds = yf.download('^FVX', start=start, end=end)[['Close']].rename(columns={'Close':'five_Y_bonds'}) #Доходность 5-летних облигаций\n",
        "three_M_bonds = yf.download('^IRX', start=start, end=end)[['Close']].rename(columns={'Close':'three_M_bonds'}) #Доходность 3-месячных облигаций\n",
        "spread_between_10Y_and_2Y = nasdaqdatalink.get(\"FRED/T10Y2Y\", authtoken=\"ozjjWbTgDPPCBtBWJW7d\") # Спред между 10-летними и 2-х летними облигациями \n",
        "spread_between_10Y_and_2Y = spread_between_10Y_and_2Y.rename(columns={'Value':'spread_between_10Y_and_2Y'})\n",
        "spread_between_10Y_and_3M['spread_between_10Y_and_3M'] = ten_Y_bonds['ten_Y_bonds'] - three_M_bonds['three_M_bonds']\n",
        "High_yield_bonds = nasdaqdatalink.get(\"ML/USTRI\", authtoken=\"ozjjWbTgDPPCBtBWJW7d\") # Доходность мусорных облигаций\n",
        "High_yield_bonds = High_yield_bonds.rename(columns={'BAMLH0A0HYM2EY':'High_yield_bonds'})\n",
        "# BBB_spread = nasdaqdatalink.get(\"FRED/BAA10Y\", authtoken=\"ozjjWbTgDPPCBtBWJW7d\")\n",
        "# BBB_spread = BBB_spread.rename(columns={'Value':'BBB_spread'})\n",
        "\n",
        "\n",
        "Shorts = nasdaqdatalink.get(\"CFTC/13874A_FO_L_ALL\", authtoken=\"ozjjWbTgDPPCBtBWJW7d\")[['Noncommercial Long', 'Noncommercial Short']].resample('1BM').last() # (weekly)"
      ],
      "metadata": {
        "colab": {
          "base_uri": "https://localhost:8080/"
        },
        "id": "0t1W2ZrQNvBC",
        "outputId": "46f7c2f6-479f-49b6-ec49-76859b82cf35"
      },
      "execution_count": null,
      "outputs": [
        {
          "output_type": "stream",
          "name": "stdout",
          "text": [
            "[*********************100%***********************]  1 of 1 completed\n",
            "[*********************100%***********************]  1 of 1 completed\n",
            "[*********************100%***********************]  1 of 1 completed\n",
            "[*********************100%***********************]  1 of 1 completed\n"
          ]
        }
      ]
    },
    {
      "cell_type": "code",
      "source": [
        "Gold = yf.download('GC=F', start=start, end=end)[['Close']].resample('1BM').last()\n",
        "Gold = Gold.rename(columns={'Close':'Gold_Close'})\n",
        "SP500 = yf.download('^GSPC', start=start, end=end)[['Close']].resample('1BM').last()\n",
        "SP500 = SP500.rename(columns={'Close':'SP500_Close'})"
      ],
      "metadata": {
        "colab": {
          "base_uri": "https://localhost:8080/"
        },
        "id": "ik8NzAGXmnLe",
        "outputId": "9b8bfb1f-be6c-4a5d-c872-42f21feaa2de"
      },
      "execution_count": null,
      "outputs": [
        {
          "output_type": "stream",
          "name": "stdout",
          "text": [
            "[*********************100%***********************]  1 of 1 completed\n",
            "[*********************100%***********************]  1 of 1 completed\n"
          ]
        }
      ]
    },
    {
      "cell_type": "code",
      "source": [
        "indicators_expectation = [PMI, ISM, Michigan, Consumer_Sentiment, Buying_condition_for_houses, Buying_condition_for_vehicle, Monthly_Supply_of_New_Houses, Shorts]\n",
        "leading_economic_indicators = [Leading_Index_for_USA, OECD_USA, Financial_Stress_Index]\n",
        "money_liquidity_month = [M1_USA, M2_USA, Cash_Assets, inflation_YOY, inflation_MOM, FED_Assets]\n",
        "rates_spreads = [thirty_Y_bonds, ten_Y_bonds, five_Y_bonds, three_M_bonds, spread_between_10Y_and_2Y, spread_between_10Y_and_3M, High_yield_bonds, Fed_rate]"
      ],
      "metadata": {
        "id": "3bBc1F0n6Py8"
      },
      "execution_count": null,
      "outputs": []
    },
    {
      "cell_type": "code",
      "source": [
        "rates = pd.concat(rates_spreads, axis=1).dropna()\n",
        "numbers_indicators = len(pd.concat(indicators_expectation, axis=1).dropna().columns)\n",
        "numbers_leading_eco = len(pd.concat(leading_economic_indicators, axis=1).dropna().columns)\n",
        "numbers_liquidity = len(pd.concat(money_liquidity_month, axis=1).dropna().columns)\n",
        "numbers_rates = len(rates.columns)"
      ],
      "metadata": {
        "id": "zJKFrIlK6Py9"
      },
      "execution_count": null,
      "outputs": []
    },
    {
      "cell_type": "markdown",
      "source": [
        "# Функции обработки датафрейма "
      ],
      "metadata": {
        "id": "S1jyDMDX7p9N"
      }
    },
    {
      "cell_type": "code",
      "source": [
        "# Строим скользящие средние\n",
        "def prep_data(list_of_df, timeperiod, matype):\n",
        "  df = pd.concat(list_of_df, axis=1).dropna()\n",
        "  df = df.resample('1BM').last()\n",
        "  for column in df.columns:\n",
        "    df[f'{column}_SMA_{timeperiod}'] = talib.MA(df[column], timeperiod=timeperiod, matype=matype)\n",
        "  df = df.dropna()\n",
        "  return df"
      ],
      "metadata": {
        "id": "HuIxic9V7xKz"
      },
      "execution_count": null,
      "outputs": []
    },
    {
      "cell_type": "code",
      "source": [
        "# Фиксируем сигналы сравнивая значения со скользящей средней\n",
        "\n",
        "def make_signals_FOR_INDICATOR(df, timeperiod, amount_of_columns = numbers_indicators):\n",
        "  for column in df.columns[:amount_of_columns]:\n",
        "    if (column == 'Bad time to Buy' or column == 'B_Buy_Vech' or column == 'New_Houses'):\n",
        "      df[f'{column}_signal'] = np.where((df[column] < df[f'{column}_SMA_{timeperiod}']), 1, -1)\n",
        "    else:\n",
        "      df[f'{column}_signal'] = np.where((df[column] >= df[f'{column}_SMA_{timeperiod}']), 1, -1)\n",
        "  return df\n",
        "\n",
        "def make_signals_FOR_LEADING_ECO(df, timeperiod, amount_of_columns = numbers_leading_eco):\n",
        "  for column in df.columns[:amount_of_columns]:\n",
        "    if column == 'FED_FSI':\n",
        "      df[f'{column}_signal'] = np.where((df[column] < df[f'{column}_SMA_{timeperiod}']) |\n",
        "                                                (df[column] < 0), 1, -1)\n",
        "    else:\n",
        "      df[f'{column}_signal'] = np.where((df[column] >= df[f'{column}_SMA_{timeperiod}']), 1, -1)\n",
        "  return df\n",
        "\n",
        "def make_signals_FOR_LIQIDITY(df, timeperiod, amount_of_columns = numbers_liquidity):\n",
        "  for column in df.columns[:amount_of_columns]:\n",
        "    if (column == 'inflation_YOY' or column == 'inflation_MOM' or column == 'Noncommercial Short'):\n",
        "      df[f'{column}_signal'] = np.where((df[column] < df[f'{column}_SMA_{timeperiod}']), 1, -1)\n",
        "    else:\n",
        "      df[f'{column}_signal'] = np.where((df[column] >= df[f'{column}_SMA_{timeperiod}']), 1, -1)\n",
        "  return df\n",
        "\n",
        "def make_signals_FOR_RATES_SPREADS(df, timeperiod, amount_of_columns = numbers_rates):\n",
        "  for column in df.columns[:amount_of_columns]:\n",
        "    if (column == 'High_yield_bonds' or column == 'Fed_rate'):\n",
        "      df[f'{column}_signal'] = np.where((df[column] < df[f'{column}_SMA_{timeperiod}']), 1, -1)\n",
        "    elif (column == 'spread_between_10Y_and_2Y' or column == 'spread_between_10Y_and_3M'):\n",
        "      df[f'{column}_signal'] = np.where((df[column] > 0.0), 1, -1)\n",
        "    else:\n",
        "      df['curve_yield_signal'] = np.where(\n",
        "      (df['thirty_Y_bonds'] > df['ten_Y_bonds']) &\n",
        "      (df['ten_Y_bonds'] > df['five_Y_bonds']) &\n",
        "      (df['five_Y_bonds']> df['three_M_bonds']), 1, -1)\n",
        "  return df"
      ],
      "metadata": {
        "id": "9LC1-_d07xM9"
      },
      "execution_count": null,
      "outputs": []
    },
    {
      "cell_type": "code",
      "source": [
        "# Формируем Датафрейм из колонок, где есть слово \"Signal\"\n",
        "\n",
        "def get_only_signals(df):\n",
        "  signal_cols = [col for col in df.columns if 'signal' in col]\n",
        "  df_signals = df[signal_cols]\n",
        "  df_signals[f'Total Signal'] = df_signals.sum(axis=1)\n",
        "  return df_signals"
      ],
      "metadata": {
        "id": "YhtUiJp6O4Ga"
      },
      "execution_count": null,
      "outputs": []
    },
    {
      "cell_type": "markdown",
      "source": [
        "# Применение функций к Датафрейму (moving average (MA) == 12)"
      ],
      "metadata": {
        "id": "9caspXrb2sNd"
      }
    },
    {
      "cell_type": "code",
      "source": [
        "timeperiod = 12\n",
        "matype = 0"
      ],
      "metadata": {
        "id": "a2c89Ss-auer"
      },
      "execution_count": null,
      "outputs": []
    },
    {
      "cell_type": "code",
      "source": [
        "INDICATORS = prep_data(indicators_expectation, timeperiod=timeperiod, matype=matype)\n",
        "LEADING_ECO = prep_data(leading_economic_indicators, timeperiod=timeperiod, matype=matype)\n",
        "LIQIDITY = prep_data(money_liquidity_month, timeperiod=timeperiod, matype=matype)\n",
        "RATES_SPREADS = prep_data(rates_spreads, timeperiod=timeperiod, matype=matype)\n",
        "RATES_SPREADS = RATES_SPREADS.shift(-1).dropna()                                  # Данные по индикаторам публикуются с запозданием, информация по ставкам доступна онлайн, поэтому, чтобы уменьшить несогласованность во времени получения данных я сдвинул информацию по ставкам на один шаг\n",
        "\n",
        "# LIQIDITY.name = 'LIQIDITY'\n",
        "# INDICATORS.name = 'INDICATORS'\n",
        "# LEADING_ECO.name = 'LEADING_ECO'\n",
        "# RATES_SPREADS.name = 'RATES_SPREADS'"
      ],
      "metadata": {
        "id": "-2QVxY4NgQIr"
      },
      "execution_count": null,
      "outputs": []
    },
    {
      "cell_type": "code",
      "source": [
        "INDICATORS = make_signals_FOR_INDICATOR(INDICATORS, timeperiod=timeperiod)\n",
        "LEADING_ECO = make_signals_FOR_LEADING_ECO(LEADING_ECO, timeperiod=timeperiod)\n",
        "LIQIDITY = make_signals_FOR_LIQIDITY(LIQIDITY, timeperiod=timeperiod)\n",
        "RATES_SPREADS = make_signals_FOR_RATES_SPREADS(RATES_SPREADS, timeperiod=timeperiod)"
      ],
      "metadata": {
        "id": "0gGAbsBrs0ZA"
      },
      "execution_count": null,
      "outputs": []
    },
    {
      "cell_type": "code",
      "source": [
        "United = pd.concat([INDICATORS, LEADING_ECO, LIQIDITY, RATES_SPREADS], axis = 1)\n",
        "signal_cols = [col for col in United.columns if 'signal' in col]\n",
        "United_signals = United[signal_cols]\n",
        "United_signals['Total Signal'] = United_signals.sum(axis=1)\n",
        "\n",
        "Gold_shifted = Gold.shift(-1)\n",
        "SP500_shifted = SP500.shift(-1)\n",
        "Final_df = United_signals.join(SP500_shifted).join(Gold_shifted)"
      ],
      "metadata": {
        "colab": {
          "base_uri": "https://localhost:8080/"
        },
        "id": "_1egzwUss0e9",
        "outputId": "291e44ad-4d37-47f7-b564-c0df21f79835"
      },
      "execution_count": null,
      "outputs": [
        {
          "output_type": "stream",
          "name": "stderr",
          "text": [
            "/usr/local/lib/python3.7/dist-packages/ipykernel_launcher.py:4: SettingWithCopyWarning: \n",
            "A value is trying to be set on a copy of a slice from a DataFrame.\n",
            "Try using .loc[row_indexer,col_indexer] = value instead\n",
            "\n",
            "See the caveats in the documentation: https://pandas.pydata.org/pandas-docs/stable/user_guide/indexing.html#returning-a-view-versus-a-copy\n",
            "  after removing the cwd from sys.path.\n"
          ]
        }
      ]
    },
    {
      "cell_type": "markdown",
      "source": [
        "# Формирование точек входа и выхода из сделок и расчет доходности"
      ],
      "metadata": {
        "id": "MprJmWh624B8"
      }
    },
    {
      "cell_type": "code",
      "source": [
        "Experiment = Final_df[['Total Signal', 'SP500_Close', 'Gold_Close']].dropna()\n",
        "Experiment"
      ],
      "metadata": {
        "colab": {
          "base_uri": "https://localhost:8080/",
          "height": 424
        },
        "outputId": "61333b94-d803-4d33-ef23-0ab5e5b887d2",
        "id": "UIXG3bbDuseN"
      },
      "execution_count": null,
      "outputs": [
        {
          "output_type": "execute_result",
          "data": {
            "text/plain": [
              "            Total Signal  SP500_Close   Gold_Close\n",
              "2003-11-28          11.0  1111.920044   415.700012\n",
              "2003-12-31           7.0  1131.130005   402.200012\n",
              "2004-01-30          23.0  1144.939941   396.399994\n",
              "2004-02-27          15.0  1126.209961   427.299988\n",
              "2004-03-31          15.0  1107.300049   387.000000\n",
              "...                  ...          ...          ...\n",
              "2012-07-31          17.0  1406.579956  1684.599976\n",
              "2012-08-31          17.0  1440.670044  1771.099976\n",
              "2012-09-28          17.0  1412.160034  1717.500000\n",
              "2012-10-31          13.0  1416.180054  1710.900024\n",
              "2012-11-30          17.0  1402.430054  1654.900024\n",
              "\n",
              "[109 rows x 3 columns]"
            ],
            "text/html": [
              "\n",
              "  <div id=\"df-44cdf215-477d-41bf-a005-f3dec9bc5055\">\n",
              "    <div class=\"colab-df-container\">\n",
              "      <div>\n",
              "<style scoped>\n",
              "    .dataframe tbody tr th:only-of-type {\n",
              "        vertical-align: middle;\n",
              "    }\n",
              "\n",
              "    .dataframe tbody tr th {\n",
              "        vertical-align: top;\n",
              "    }\n",
              "\n",
              "    .dataframe thead th {\n",
              "        text-align: right;\n",
              "    }\n",
              "</style>\n",
              "<table border=\"1\" class=\"dataframe\">\n",
              "  <thead>\n",
              "    <tr style=\"text-align: right;\">\n",
              "      <th></th>\n",
              "      <th>Total Signal</th>\n",
              "      <th>SP500_Close</th>\n",
              "      <th>Gold_Close</th>\n",
              "    </tr>\n",
              "  </thead>\n",
              "  <tbody>\n",
              "    <tr>\n",
              "      <th>2003-11-28</th>\n",
              "      <td>11.0</td>\n",
              "      <td>1111.920044</td>\n",
              "      <td>415.700012</td>\n",
              "    </tr>\n",
              "    <tr>\n",
              "      <th>2003-12-31</th>\n",
              "      <td>7.0</td>\n",
              "      <td>1131.130005</td>\n",
              "      <td>402.200012</td>\n",
              "    </tr>\n",
              "    <tr>\n",
              "      <th>2004-01-30</th>\n",
              "      <td>23.0</td>\n",
              "      <td>1144.939941</td>\n",
              "      <td>396.399994</td>\n",
              "    </tr>\n",
              "    <tr>\n",
              "      <th>2004-02-27</th>\n",
              "      <td>15.0</td>\n",
              "      <td>1126.209961</td>\n",
              "      <td>427.299988</td>\n",
              "    </tr>\n",
              "    <tr>\n",
              "      <th>2004-03-31</th>\n",
              "      <td>15.0</td>\n",
              "      <td>1107.300049</td>\n",
              "      <td>387.000000</td>\n",
              "    </tr>\n",
              "    <tr>\n",
              "      <th>...</th>\n",
              "      <td>...</td>\n",
              "      <td>...</td>\n",
              "      <td>...</td>\n",
              "    </tr>\n",
              "    <tr>\n",
              "      <th>2012-07-31</th>\n",
              "      <td>17.0</td>\n",
              "      <td>1406.579956</td>\n",
              "      <td>1684.599976</td>\n",
              "    </tr>\n",
              "    <tr>\n",
              "      <th>2012-08-31</th>\n",
              "      <td>17.0</td>\n",
              "      <td>1440.670044</td>\n",
              "      <td>1771.099976</td>\n",
              "    </tr>\n",
              "    <tr>\n",
              "      <th>2012-09-28</th>\n",
              "      <td>17.0</td>\n",
              "      <td>1412.160034</td>\n",
              "      <td>1717.500000</td>\n",
              "    </tr>\n",
              "    <tr>\n",
              "      <th>2012-10-31</th>\n",
              "      <td>13.0</td>\n",
              "      <td>1416.180054</td>\n",
              "      <td>1710.900024</td>\n",
              "    </tr>\n",
              "    <tr>\n",
              "      <th>2012-11-30</th>\n",
              "      <td>17.0</td>\n",
              "      <td>1402.430054</td>\n",
              "      <td>1654.900024</td>\n",
              "    </tr>\n",
              "  </tbody>\n",
              "</table>\n",
              "<p>109 rows × 3 columns</p>\n",
              "</div>\n",
              "      <button class=\"colab-df-convert\" onclick=\"convertToInteractive('df-44cdf215-477d-41bf-a005-f3dec9bc5055')\"\n",
              "              title=\"Convert this dataframe to an interactive table.\"\n",
              "              style=\"display:none;\">\n",
              "        \n",
              "  <svg xmlns=\"http://www.w3.org/2000/svg\" height=\"24px\"viewBox=\"0 0 24 24\"\n",
              "       width=\"24px\">\n",
              "    <path d=\"M0 0h24v24H0V0z\" fill=\"none\"/>\n",
              "    <path d=\"M18.56 5.44l.94 2.06.94-2.06 2.06-.94-2.06-.94-.94-2.06-.94 2.06-2.06.94zm-11 1L8.5 8.5l.94-2.06 2.06-.94-2.06-.94L8.5 2.5l-.94 2.06-2.06.94zm10 10l.94 2.06.94-2.06 2.06-.94-2.06-.94-.94-2.06-.94 2.06-2.06.94z\"/><path d=\"M17.41 7.96l-1.37-1.37c-.4-.4-.92-.59-1.43-.59-.52 0-1.04.2-1.43.59L10.3 9.45l-7.72 7.72c-.78.78-.78 2.05 0 2.83L4 21.41c.39.39.9.59 1.41.59.51 0 1.02-.2 1.41-.59l7.78-7.78 2.81-2.81c.8-.78.8-2.07 0-2.86zM5.41 20L4 18.59l7.72-7.72 1.47 1.35L5.41 20z\"/>\n",
              "  </svg>\n",
              "      </button>\n",
              "      \n",
              "  <style>\n",
              "    .colab-df-container {\n",
              "      display:flex;\n",
              "      flex-wrap:wrap;\n",
              "      gap: 12px;\n",
              "    }\n",
              "\n",
              "    .colab-df-convert {\n",
              "      background-color: #E8F0FE;\n",
              "      border: none;\n",
              "      border-radius: 50%;\n",
              "      cursor: pointer;\n",
              "      display: none;\n",
              "      fill: #1967D2;\n",
              "      height: 32px;\n",
              "      padding: 0 0 0 0;\n",
              "      width: 32px;\n",
              "    }\n",
              "\n",
              "    .colab-df-convert:hover {\n",
              "      background-color: #E2EBFA;\n",
              "      box-shadow: 0px 1px 2px rgba(60, 64, 67, 0.3), 0px 1px 3px 1px rgba(60, 64, 67, 0.15);\n",
              "      fill: #174EA6;\n",
              "    }\n",
              "\n",
              "    [theme=dark] .colab-df-convert {\n",
              "      background-color: #3B4455;\n",
              "      fill: #D2E3FC;\n",
              "    }\n",
              "\n",
              "    [theme=dark] .colab-df-convert:hover {\n",
              "      background-color: #434B5C;\n",
              "      box-shadow: 0px 1px 3px 1px rgba(0, 0, 0, 0.15);\n",
              "      filter: drop-shadow(0px 1px 2px rgba(0, 0, 0, 0.3));\n",
              "      fill: #FFFFFF;\n",
              "    }\n",
              "  </style>\n",
              "\n",
              "      <script>\n",
              "        const buttonEl =\n",
              "          document.querySelector('#df-44cdf215-477d-41bf-a005-f3dec9bc5055 button.colab-df-convert');\n",
              "        buttonEl.style.display =\n",
              "          google.colab.kernel.accessAllowed ? 'block' : 'none';\n",
              "\n",
              "        async function convertToInteractive(key) {\n",
              "          const element = document.querySelector('#df-44cdf215-477d-41bf-a005-f3dec9bc5055');\n",
              "          const dataTable =\n",
              "            await google.colab.kernel.invokeFunction('convertToInteractive',\n",
              "                                                     [key], {});\n",
              "          if (!dataTable) return;\n",
              "\n",
              "          const docLinkHtml = 'Like what you see? Visit the ' +\n",
              "            '<a target=\"_blank\" href=https://colab.research.google.com/notebooks/data_table.ipynb>data table notebook</a>'\n",
              "            + ' to learn more about interactive tables.';\n",
              "          element.innerHTML = '';\n",
              "          dataTable['output_type'] = 'display_data';\n",
              "          await google.colab.output.renderOutput(dataTable, element);\n",
              "          const docLink = document.createElement('div');\n",
              "          docLink.innerHTML = docLinkHtml;\n",
              "          element.appendChild(docLink);\n",
              "        }\n",
              "      </script>\n",
              "    </div>\n",
              "  </div>\n",
              "  "
            ]
          },
          "metadata": {},
          "execution_count": 894
        }
      ]
    },
    {
      "cell_type": "code",
      "source": [
        "amount = 1000\n",
        "Experiment['price_Buy_SP500'] = np.nan\n",
        "Experiment['price_Sell_SP500'] = np.nan\n",
        "Experiment['price_Buy_Gold'] = np.nan\n",
        "Experiment['price_Sell_Gold'] = np.nan\n",
        "\n",
        "for x in range(len(Final_df)-1):\n",
        "    if (amount == 1000 and\n",
        "        Experiment.loc[:,'Total Signal'][x] > 0):\n",
        "        # and Experiment.loc[:,'spread_between_10Y_and_2Y_signal'][x] > 0 \n",
        "        # and Experiment.loc[:,'spread_between_10Y_and_3M_signal'][x] > 0):\n",
        "        Experiment.loc[:,'price_Buy_SP500'][x] =  Experiment.loc[:,'SP500_Close'][x]\n",
        "        Experiment.loc[:,'price_Sell_Gold'][x] =  -Experiment.loc[:,'Gold_Close'][x]\n",
        "        amount -= 1000\n",
        " \n",
        "    elif (amount == 0 and \n",
        "          Experiment.loc[:,'Total Signal'][x] < 0): \n",
        "          # and Experiment.loc[:,'spread_between_10Y_and_2Y_signal'][x] < 0 \n",
        "          # and Experiment.loc[:,'spread_between_10Y_and_3M_signal'][x] < 0):\n",
        "          Experiment.loc[:,'price_Sell_SP500'][x] =  -Experiment.loc[:,'SP500_Close'][x]\n",
        "          Experiment.loc[:,'price_Buy_Gold'][x] =  Experiment.loc[:,'Gold_Close'][x]\n",
        "          amount += 1000 \n",
        "    else:\n",
        "      pass   "
      ],
      "metadata": {
        "id": "V0lH2Hx1useN"
      },
      "execution_count": null,
      "outputs": []
    },
    {
      "cell_type": "code",
      "source": [
        "Buy_SP_Sell_Gold = Experiment[['price_Buy_SP500', 'price_Sell_Gold']].dropna()\n",
        "Buy_Gold_Sell_SP = Experiment[['price_Buy_Gold', 'price_Sell_SP500']].dropna()\n",
        "\n",
        "Exp_final = pd.concat([Buy_SP_Sell_Gold, Buy_Gold_Sell_SP], axis = 0)\n",
        "Exp_final = Exp_final.sort_index(ascending=True)\n",
        "Exp_final[Exp_final.iloc[[0]] < 0 ] = np.nan\n",
        "Exp_final[Exp_final.iloc[[-1]] > 0 ] = np.nan\n",
        "\n",
        "SP_buy = np.array(Exp_final['price_Buy_SP500'].dropna())\n",
        "SP_sold = np.array(Exp_final['price_Sell_SP500'].dropna())\n",
        "Gold_buy = np.array(Exp_final['price_Buy_Gold'].dropna())\n",
        "Gold_sold = np.array(Exp_final['price_Sell_Gold'].dropna())\n"
      ],
      "metadata": {
        "id": "Afa-PaG3useN"
      },
      "execution_count": null,
      "outputs": []
    },
    {
      "cell_type": "code",
      "source": [
        "d1 = du_parse(str(Exp_final.index[0]))\n",
        "d2 = du_parse(str(Exp_final.index[-1]))\n",
        "delta = relativedelta(d2, d1)\n",
        "months = delta.years * 12 + delta.months\n",
        "\n",
        "Return_in_SP = sum(abs(SP_sold)/SP_buy - 1)\n",
        "Return_in_Gold = sum(abs(Gold_sold)/Gold_buy - 1)\n",
        "Portfolio_return = (Return_in_SP+Return_in_Gold)/months*12\n",
        "print('Portfolio annualized Return: ' + '%.2f' %(Portfolio_return*100) + ' %')"
      ],
      "metadata": {
        "colab": {
          "base_uri": "https://localhost:8080/"
        },
        "outputId": "bf0bf373-181c-4f19-84b0-f6a6009fa393",
        "id": "5wY8VkSpuseN"
      },
      "execution_count": null,
      "outputs": [
        {
          "output_type": "stream",
          "name": "stdout",
          "text": [
            "Portfolio annualized Return: 3.57 %\n"
          ]
        }
      ]
    },
    {
      "cell_type": "markdown",
      "source": [
        "# Построение графиков входа и выхода"
      ],
      "metadata": {
        "id": "G42C-X_G3UkT"
      }
    },
    {
      "cell_type": "code",
      "source": [
        "x = range(Final_df.shape[0])\n",
        "plt.figure(figsize=(20,10))\n",
        "\n",
        "point_in_for_Gold = Exp_final['price_Buy_Gold']\n",
        "point_out_for_Gold = abs(Exp_final['price_Sell_Gold'])\n",
        "\n",
        "plt.plot(Final_df['Gold_Close'], color='orange', label='Gold_Close')\n",
        "plt.scatter(Exp_final.index, point_in_for_Gold, label='price_Buy_Gold',color = 'green', marker = 'v',alpha = 1, s=150)\n",
        "plt.scatter(Exp_final.index, point_out_for_Gold, label='price_Sell_Gold',color = 'red', marker = 'v',alpha = 1, s=150)\n",
        "plt.title('Buy&Sell signals')\n",
        "plt.xlabel('Date', fontsize = 20)\n",
        "plt.ylabel('Price', fontsize = 20)\n",
        "plt.legend(loc='upper left')\n",
        "plt.show()"
      ],
      "metadata": {
        "colab": {
          "base_uri": "https://localhost:8080/",
          "height": 630
        },
        "outputId": "6cb44dd1-cf0e-41f3-f395-83fc89271270",
        "id": "G5x34pcfuseO"
      },
      "execution_count": null,
      "outputs": [
        {
          "output_type": "display_data",
          "data": {
            "text/plain": [
              "<Figure size 1440x720 with 1 Axes>"
            ],
            "image/png": "[encoded data removed]"
          },
          "metadata": {
            "needs_background": "light"
          }
        }
      ]
    },
    {
      "cell_type": "code",
      "source": [
        "x = range(Final_df.shape[0])\n",
        "plt.figure(figsize=(20,10))\n",
        "\n",
        "point_in_for_SP500 = Exp_final['price_Buy_SP500']\n",
        "point_out_for_SP500 = abs(Exp_final['price_Sell_SP500'])\n",
        "\n",
        "\n",
        "plt.plot(Final_df['SP500_Close'], color='blue', label='SP500_Close')\n",
        "plt.scatter(Exp_final.index, point_in_for_SP500, label='price_Buy_SP500', color = 'green', marker = '^', alpha = 1, s=150)\n",
        "plt.scatter(Exp_final.index, point_out_for_SP500, label='price_Sell_SP500',color = 'red', marker = 'v',alpha = 1, s=150)\n",
        "\n",
        "plt.title('Buy&Sell signals')\n",
        "plt.xlabel('Date', fontsize = 20)\n",
        "plt.ylabel('Price', fontsize = 20)\n",
        "plt.legend(loc='upper left')\n",
        "plt.show()\n"
      ],
      "metadata": {
        "colab": {
          "base_uri": "https://localhost:8080/",
          "height": 630
        },
        "outputId": "39ac3b93-28b4-4b7e-f5c6-f6953af11c07",
        "id": "mij12BwouseO"
      },
      "execution_count": null,
      "outputs": [
        {
          "output_type": "display_data",
          "data": {
            "text/plain": [
              "<Figure size 1440x720 with 1 Axes>"
            ],
            "image/png": "[encoded data removed]"
          },
          "metadata": {
            "needs_background": "light"
          }
        }
      ]
    },
    {
      "cell_type": "markdown",
      "source": [
        "# Тест стратегии со скользящей средней == 24 месяцев"
      ],
      "metadata": {
        "id": "_q916Gb94Vgj"
      }
    },
    {
      "cell_type": "code",
      "source": [
        "timeperiod = 24\n",
        "matype = 0"
      ],
      "metadata": {
        "id": "vcshJemd4rqD"
      },
      "execution_count": null,
      "outputs": []
    },
    {
      "cell_type": "code",
      "source": [
        "INDICATORS = prep_data(indicators_expectation, timeperiod=timeperiod, matype=matype)\n",
        "LEADING_ECO = prep_data(leading_economic_indicators, timeperiod=timeperiod, matype=matype)\n",
        "LIQIDITY = prep_data(money_liquidity_month, timeperiod=timeperiod, matype=matype)\n",
        "RATES_SPREADS = prep_data(rates_spreads, timeperiod=timeperiod, matype=matype)\n",
        "RATES_SPREADS = RATES_SPREADS.shift(-1).dropna()\n",
        "\n",
        "# LIQIDITY.name = 'LIQIDITY'\n",
        "# INDICATORS.name = 'INDICATORS'\n",
        "# LEADING_ECO.name = 'LEADING_ECO'\n",
        "# RATES_SPREADS.name = 'RATES_SPREADS'"
      ],
      "metadata": {
        "id": "5WGitsFv4rqD"
      },
      "execution_count": null,
      "outputs": []
    },
    {
      "cell_type": "code",
      "source": [
        "INDICATORS = make_signals_FOR_INDICATOR(INDICATORS,timeperiod=timeperiod)\n",
        "LEADING_ECO = make_signals_FOR_LEADING_ECO(LEADING_ECO, timeperiod=timeperiod)\n",
        "LIQIDITY = make_signals_FOR_LIQIDITY(LIQIDITY, timeperiod=timeperiod)\n",
        "RATES_SPREADS = make_signals_FOR_RATES_SPREADS(RATES_SPREADS, timeperiod=timeperiod)"
      ],
      "metadata": {
        "id": "M8loGJ7Z4rqD"
      },
      "execution_count": null,
      "outputs": []
    },
    {
      "cell_type": "code",
      "source": [
        "INDICATORS_signals = get_only_signals(INDICATORS)\n",
        "LEADING_ECO_signals = get_only_signals(LEADING_ECO)\n",
        "LIQIDITY_signals = get_only_signals(LIQIDITY)\n",
        "RATES_SPREADS_signals = get_only_signals(RATES_SPREADS)"
      ],
      "metadata": {
        "colab": {
          "base_uri": "https://localhost:8080/"
        },
        "id": "e3SarPkDOloo",
        "outputId": "92257582-56ba-4e36-8fd3-4bbf3a2c0015"
      },
      "execution_count": null,
      "outputs": [
        {
          "output_type": "stream",
          "name": "stderr",
          "text": [
            "/usr/local/lib/python3.7/dist-packages/ipykernel_launcher.py:6: SettingWithCopyWarning: \n",
            "A value is trying to be set on a copy of a slice from a DataFrame.\n",
            "Try using .loc[row_indexer,col_indexer] = value instead\n",
            "\n",
            "See the caveats in the documentation: https://pandas.pydata.org/pandas-docs/stable/user_guide/indexing.html#returning-a-view-versus-a-copy\n",
            "  \n"
          ]
        }
      ]
    },
    {
      "cell_type": "code",
      "source": [
        "United = pd.concat([INDICATORS, LEADING_ECO, LIQIDITY, RATES_SPREADS], axis = 1)\n",
        "signal_cols = [col for col in United.columns if 'signal' in col]\n",
        "United_signals = United[signal_cols]\n",
        "United_signals['Total Signal'] = United_signals.sum(axis=1)\n",
        "\n",
        "Gold_shifted = Gold.shift(-1)\n",
        "SP500_shifted = SP500.shift(-1)\n",
        "Final_df = United_signals.join(SP500_shifted).join(Gold_shifted)"
      ],
      "metadata": {
        "colab": {
          "base_uri": "https://localhost:8080/"
        },
        "outputId": "94cf538c-36cb-4dca-f5e7-7392cffab86c",
        "id": "VUwNbJA84rqD"
      },
      "execution_count": null,
      "outputs": [
        {
          "output_type": "stream",
          "name": "stderr",
          "text": [
            "/usr/local/lib/python3.7/dist-packages/ipykernel_launcher.py:4: SettingWithCopyWarning: \n",
            "A value is trying to be set on a copy of a slice from a DataFrame.\n",
            "Try using .loc[row_indexer,col_indexer] = value instead\n",
            "\n",
            "See the caveats in the documentation: https://pandas.pydata.org/pandas-docs/stable/user_guide/indexing.html#returning-a-view-versus-a-copy\n",
            "  after removing the cwd from sys.path.\n"
          ]
        }
      ]
    },
    {
      "cell_type": "markdown",
      "source": [
        "# Формирование точек входа и выхода из сделок и расчет доходности"
      ],
      "metadata": {
        "id": "veuIJ9cQ4rqE"
      }
    },
    {
      "cell_type": "code",
      "source": [
        "Experiment = Final_df[['spread_between_10Y_and_2Y_signal', 'spread_between_10Y_and_3M_signal', 'Total Signal', 'SP500_Close', 'Gold_Close']]\n",
        "Experiment"
      ],
      "metadata": {
        "colab": {
          "base_uri": "https://localhost:8080/",
          "height": 424
        },
        "outputId": "6b53c3da-9e15-4d12-bc08-22ae53334783",
        "id": "QcFWCwSm4rqE"
      },
      "execution_count": null,
      "outputs": [
        {
          "output_type": "execute_result",
          "data": {
            "text/plain": [
              "            spread_between_10Y_and_2Y_signal  \\\n",
              "2004-11-30                               NaN   \n",
              "2004-12-31                               1.0   \n",
              "2005-01-31                               1.0   \n",
              "2005-02-28                               1.0   \n",
              "2005-03-31                               1.0   \n",
              "...                                      ...   \n",
              "2012-08-31                               1.0   \n",
              "2012-09-28                               1.0   \n",
              "2012-10-31                               1.0   \n",
              "2012-11-30                               1.0   \n",
              "2012-12-31                               NaN   \n",
              "\n",
              "            spread_between_10Y_and_3M_signal  Total Signal  SP500_Close  \\\n",
              "2004-11-30                               NaN           5.0  1211.920044   \n",
              "2004-12-31                               1.0          15.0  1181.270020   \n",
              "2005-01-31                               1.0           7.0  1203.599976   \n",
              "2005-02-28                               1.0           7.0  1180.589966   \n",
              "2005-03-31                               1.0          -1.0  1156.849976   \n",
              "...                                      ...           ...          ...   \n",
              "2012-08-31                               1.0          23.0  1440.670044   \n",
              "2012-09-28                               1.0          23.0  1412.160034   \n",
              "2012-10-31                               1.0          21.0  1416.180054   \n",
              "2012-11-30                               1.0          21.0  1402.430054   \n",
              "2012-12-31                               NaN           7.0          NaN   \n",
              "\n",
              "             Gold_Close  \n",
              "2004-11-30   437.500000  \n",
              "2004-12-31   421.799988  \n",
              "2005-01-31   436.500000  \n",
              "2005-02-28   428.700012  \n",
              "2005-03-31   435.000000  \n",
              "...                 ...  \n",
              "2012-08-31  1771.099976  \n",
              "2012-09-28  1717.500000  \n",
              "2012-10-31  1710.900024  \n",
              "2012-11-30  1654.900024  \n",
              "2012-12-31          NaN  \n",
              "\n",
              "[98 rows x 5 columns]"
            ],
            "text/html": [
              "\n",
              "  <div id=\"df-759567e6-cf3f-4917-9c8a-d2c3fa5a7b56\">\n",
              "    <div class=\"colab-df-container\">\n",
              "      <div>\n",
              "<style scoped>\n",
              "    .dataframe tbody tr th:only-of-type {\n",
              "        vertical-align: middle;\n",
              "    }\n",
              "\n",
              "    .dataframe tbody tr th {\n",
              "        vertical-align: top;\n",
              "    }\n",
              "\n",
              "    .dataframe thead th {\n",
              "        text-align: right;\n",
              "    }\n",
              "</style>\n",
              "<table border=\"1\" class=\"dataframe\">\n",
              "  <thead>\n",
              "    <tr style=\"text-align: right;\">\n",
              "      <th></th>\n",
              "      <th>spread_between_10Y_and_2Y_signal</th>\n",
              "      <th>spread_between_10Y_and_3M_signal</th>\n",
              "      <th>Total Signal</th>\n",
              "      <th>SP500_Close</th>\n",
              "      <th>Gold_Close</th>\n",
              "    </tr>\n",
              "  </thead>\n",
              "  <tbody>\n",
              "    <tr>\n",
              "      <th>2004-11-30</th>\n",
              "      <td>NaN</td>\n",
              "      <td>NaN</td>\n",
              "      <td>5.0</td>\n",
              "      <td>1211.920044</td>\n",
              "      <td>437.500000</td>\n",
              "    </tr>\n",
              "    <tr>\n",
              "      <th>2004-12-31</th>\n",
              "      <td>1.0</td>\n",
              "      <td>1.0</td>\n",
              "      <td>15.0</td>\n",
              "      <td>1181.270020</td>\n",
              "      <td>421.799988</td>\n",
              "    </tr>\n",
              "    <tr>\n",
              "      <th>2005-01-31</th>\n",
              "      <td>1.0</td>\n",
              "      <td>1.0</td>\n",
              "      <td>7.0</td>\n",
              "      <td>1203.599976</td>\n",
              "      <td>436.500000</td>\n",
              "    </tr>\n",
              "    <tr>\n",
              "      <th>2005-02-28</th>\n",
              "      <td>1.0</td>\n",
              "      <td>1.0</td>\n",
              "      <td>7.0</td>\n",
              "      <td>1180.589966</td>\n",
              "      <td>428.700012</td>\n",
              "    </tr>\n",
              "    <tr>\n",
              "      <th>2005-03-31</th>\n",
              "      <td>1.0</td>\n",
              "      <td>1.0</td>\n",
              "      <td>-1.0</td>\n",
              "      <td>1156.849976</td>\n",
              "      <td>435.000000</td>\n",
              "    </tr>\n",
              "    <tr>\n",
              "      <th>...</th>\n",
              "      <td>...</td>\n",
              "      <td>...</td>\n",
              "      <td>...</td>\n",
              "      <td>...</td>\n",
              "      <td>...</td>\n",
              "    </tr>\n",
              "    <tr>\n",
              "      <th>2012-08-31</th>\n",
              "      <td>1.0</td>\n",
              "      <td>1.0</td>\n",
              "      <td>23.0</td>\n",
              "      <td>1440.670044</td>\n",
              "      <td>1771.099976</td>\n",
              "    </tr>\n",
              "    <tr>\n",
              "      <th>2012-09-28</th>\n",
              "      <td>1.0</td>\n",
              "      <td>1.0</td>\n",
              "      <td>23.0</td>\n",
              "      <td>1412.160034</td>\n",
              "      <td>1717.500000</td>\n",
              "    </tr>\n",
              "    <tr>\n",
              "      <th>2012-10-31</th>\n",
              "      <td>1.0</td>\n",
              "      <td>1.0</td>\n",
              "      <td>21.0</td>\n",
              "      <td>1416.180054</td>\n",
              "      <td>1710.900024</td>\n",
              "    </tr>\n",
              "    <tr>\n",
              "      <th>2012-11-30</th>\n",
              "      <td>1.0</td>\n",
              "      <td>1.0</td>\n",
              "      <td>21.0</td>\n",
              "      <td>1402.430054</td>\n",
              "      <td>1654.900024</td>\n",
              "    </tr>\n",
              "    <tr>\n",
              "      <th>2012-12-31</th>\n",
              "      <td>NaN</td>\n",
              "      <td>NaN</td>\n",
              "      <td>7.0</td>\n",
              "      <td>NaN</td>\n",
              "      <td>NaN</td>\n",
              "    </tr>\n",
              "  </tbody>\n",
              "</table>\n",
              "<p>98 rows × 5 columns</p>\n",
              "</div>\n",
              "      <button class=\"colab-df-convert\" onclick=\"convertToInteractive('df-759567e6-cf3f-4917-9c8a-d2c3fa5a7b56')\"\n",
              "              title=\"Convert this dataframe to an interactive table.\"\n",
              "              style=\"display:none;\">\n",
              "        \n",
              "  <svg xmlns=\"http://www.w3.org/2000/svg\" height=\"24px\"viewBox=\"0 0 24 24\"\n",
              "       width=\"24px\">\n",
              "    <path d=\"M0 0h24v24H0V0z\" fill=\"none\"/>\n",
              "    <path d=\"M18.56 5.44l.94 2.06.94-2.06 2.06-.94-2.06-.94-.94-2.06-.94 2.06-2.06.94zm-11 1L8.5 8.5l.94-2.06 2.06-.94-2.06-.94L8.5 2.5l-.94 2.06-2.06.94zm10 10l.94 2.06.94-2.06 2.06-.94-2.06-.94-.94-2.06-.94 2.06-2.06.94z\"/><path d=\"M17.41 7.96l-1.37-1.37c-.4-.4-.92-.59-1.43-.59-.52 0-1.04.2-1.43.59L10.3 9.45l-7.72 7.72c-.78.78-.78 2.05 0 2.83L4 21.41c.39.39.9.59 1.41.59.51 0 1.02-.2 1.41-.59l7.78-7.78 2.81-2.81c.8-.78.8-2.07 0-2.86zM5.41 20L4 18.59l7.72-7.72 1.47 1.35L5.41 20z\"/>\n",
              "  </svg>\n",
              "      </button>\n",
              "      \n",
              "  <style>\n",
              "    .colab-df-container {\n",
              "      display:flex;\n",
              "      flex-wrap:wrap;\n",
              "      gap: 12px;\n",
              "    }\n",
              "\n",
              "    .colab-df-convert {\n",
              "      background-color: #E8F0FE;\n",
              "      border: none;\n",
              "      border-radius: 50%;\n",
              "      cursor: pointer;\n",
              "      display: none;\n",
              "      fill: #1967D2;\n",
              "      height: 32px;\n",
              "      padding: 0 0 0 0;\n",
              "      width: 32px;\n",
              "    }\n",
              "\n",
              "    .colab-df-convert:hover {\n",
              "      background-color: #E2EBFA;\n",
              "      box-shadow: 0px 1px 2px rgba(60, 64, 67, 0.3), 0px 1px 3px 1px rgba(60, 64, 67, 0.15);\n",
              "      fill: #174EA6;\n",
              "    }\n",
              "\n",
              "    [theme=dark] .colab-df-convert {\n",
              "      background-color: #3B4455;\n",
              "      fill: #D2E3FC;\n",
              "    }\n",
              "\n",
              "    [theme=dark] .colab-df-convert:hover {\n",
              "      background-color: #434B5C;\n",
              "      box-shadow: 0px 1px 3px 1px rgba(0, 0, 0, 0.15);\n",
              "      filter: drop-shadow(0px 1px 2px rgba(0, 0, 0, 0.3));\n",
              "      fill: #FFFFFF;\n",
              "    }\n",
              "  </style>\n",
              "\n",
              "      <script>\n",
              "        const buttonEl =\n",
              "          document.querySelector('#df-759567e6-cf3f-4917-9c8a-d2c3fa5a7b56 button.colab-df-convert');\n",
              "        buttonEl.style.display =\n",
              "          google.colab.kernel.accessAllowed ? 'block' : 'none';\n",
              "\n",
              "        async function convertToInteractive(key) {\n",
              "          const element = document.querySelector('#df-759567e6-cf3f-4917-9c8a-d2c3fa5a7b56');\n",
              "          const dataTable =\n",
              "            await google.colab.kernel.invokeFunction('convertToInteractive',\n",
              "                                                     [key], {});\n",
              "          if (!dataTable) return;\n",
              "\n",
              "          const docLinkHtml = 'Like what you see? Visit the ' +\n",
              "            '<a target=\"_blank\" href=https://colab.research.google.com/notebooks/data_table.ipynb>data table notebook</a>'\n",
              "            + ' to learn more about interactive tables.';\n",
              "          element.innerHTML = '';\n",
              "          dataTable['output_type'] = 'display_data';\n",
              "          await google.colab.output.renderOutput(dataTable, element);\n",
              "          const docLink = document.createElement('div');\n",
              "          docLink.innerHTML = docLinkHtml;\n",
              "          element.appendChild(docLink);\n",
              "        }\n",
              "      </script>\n",
              "    </div>\n",
              "  </div>\n",
              "  "
            ]
          },
          "metadata": {},
          "execution_count": 911
        }
      ]
    },
    {
      "cell_type": "code",
      "source": [
        "amount = 1000\n",
        "Experiment['price_Buy_SP500'] = np.nan\n",
        "Experiment['price_Sell_SP500'] = np.nan\n",
        "Experiment['price_Buy_Gold'] = np.nan\n",
        "Experiment['price_Sell_Gold'] = np.nan\n",
        "\n",
        "for x in range(len(Final_df)-1):\n",
        "    if (amount == 1000 and\n",
        "        Experiment.loc[:,'Total Signal'][x] > 0):\n",
        "        # and Experiment.loc[:,'spread_between_10Y_and_2Y_signal'][x] > 0 \n",
        "        # and Experiment.loc[:,'spread_between_10Y_and_3M_signal'][x] > 0):\n",
        "        Experiment.loc[:,'price_Buy_SP500'][x] =  Experiment.loc[:,'SP500_Close'][x]\n",
        "        Experiment.loc[:,'price_Sell_Gold'][x] =  -Experiment.loc[:,'Gold_Close'][x]\n",
        "        amount -= 1000\n",
        " \n",
        "    elif (amount == 0 and \n",
        "          Experiment.loc[:,'Total Signal'][x] < 0): \n",
        "          # and Experiment.loc[:,'spread_between_10Y_and_2Y_signal'][x] < 0 \n",
        "          # and Experiment.loc[:,'spread_between_10Y_and_3M_signal'][x] < 0):\n",
        "          Experiment.loc[:,'price_Sell_SP500'][x] =  -Experiment.loc[:,'SP500_Close'][x]\n",
        "          Experiment.loc[:,'price_Buy_Gold'][x] =  Experiment.loc[:,'Gold_Close'][x]\n",
        "          amount += 1000 \n",
        "    else:\n",
        "      pass   "
      ],
      "metadata": {
        "colab": {
          "base_uri": "https://localhost:8080/"
        },
        "outputId": "105dfdb5-279d-4b5b-e023-5bff871fe35b",
        "id": "X674mTTD4rqE"
      },
      "execution_count": null,
      "outputs": [
        {
          "output_type": "stream",
          "name": "stderr",
          "text": [
            "/usr/local/lib/python3.7/dist-packages/ipykernel_launcher.py:2: SettingWithCopyWarning: \n",
            "A value is trying to be set on a copy of a slice from a DataFrame.\n",
            "Try using .loc[row_indexer,col_indexer] = value instead\n",
            "\n",
            "See the caveats in the documentation: https://pandas.pydata.org/pandas-docs/stable/user_guide/indexing.html#returning-a-view-versus-a-copy\n",
            "  \n",
            "/usr/local/lib/python3.7/dist-packages/ipykernel_launcher.py:3: SettingWithCopyWarning: \n",
            "A value is trying to be set on a copy of a slice from a DataFrame.\n",
            "Try using .loc[row_indexer,col_indexer] = value instead\n",
            "\n",
            "See the caveats in the documentation: https://pandas.pydata.org/pandas-docs/stable/user_guide/indexing.html#returning-a-view-versus-a-copy\n",
            "  This is separate from the ipykernel package so we can avoid doing imports until\n",
            "/usr/local/lib/python3.7/dist-packages/ipykernel_launcher.py:4: SettingWithCopyWarning: \n",
            "A value is trying to be set on a copy of a slice from a DataFrame.\n",
            "Try using .loc[row_indexer,col_indexer] = value instead\n",
            "\n",
            "See the caveats in the documentation: https://pandas.pydata.org/pandas-docs/stable/user_guide/indexing.html#returning-a-view-versus-a-copy\n",
            "  after removing the cwd from sys.path.\n",
            "/usr/local/lib/python3.7/dist-packages/ipykernel_launcher.py:5: SettingWithCopyWarning: \n",
            "A value is trying to be set on a copy of a slice from a DataFrame.\n",
            "Try using .loc[row_indexer,col_indexer] = value instead\n",
            "\n",
            "See the caveats in the documentation: https://pandas.pydata.org/pandas-docs/stable/user_guide/indexing.html#returning-a-view-versus-a-copy\n",
            "  \"\"\"\n",
            "/usr/local/lib/python3.7/dist-packages/ipykernel_launcher.py:12: SettingWithCopyWarning: \n",
            "A value is trying to be set on a copy of a slice from a DataFrame\n",
            "\n",
            "See the caveats in the documentation: https://pandas.pydata.org/pandas-docs/stable/user_guide/indexing.html#returning-a-view-versus-a-copy\n",
            "  if sys.path[0] == '':\n",
            "/usr/local/lib/python3.7/dist-packages/ipykernel_launcher.py:13: SettingWithCopyWarning: \n",
            "A value is trying to be set on a copy of a slice from a DataFrame\n",
            "\n",
            "See the caveats in the documentation: https://pandas.pydata.org/pandas-docs/stable/user_guide/indexing.html#returning-a-view-versus-a-copy\n",
            "  del sys.path[0]\n",
            "/usr/local/lib/python3.7/dist-packages/ipykernel_launcher.py:20: SettingWithCopyWarning: \n",
            "A value is trying to be set on a copy of a slice from a DataFrame\n",
            "\n",
            "See the caveats in the documentation: https://pandas.pydata.org/pandas-docs/stable/user_guide/indexing.html#returning-a-view-versus-a-copy\n",
            "/usr/local/lib/python3.7/dist-packages/ipykernel_launcher.py:21: SettingWithCopyWarning: \n",
            "A value is trying to be set on a copy of a slice from a DataFrame\n",
            "\n",
            "See the caveats in the documentation: https://pandas.pydata.org/pandas-docs/stable/user_guide/indexing.html#returning-a-view-versus-a-copy\n"
          ]
        }
      ]
    },
    {
      "cell_type": "code",
      "source": [
        "Buy_SP_Sell_Gold = Experiment[['price_Buy_SP500', 'price_Sell_Gold']].dropna()\n",
        "Buy_Gold_Sell_SP = Experiment[['price_Buy_Gold', 'price_Sell_SP500']].dropna()\n",
        "\n",
        "Exp_final = pd.concat([Buy_SP_Sell_Gold, Buy_Gold_Sell_SP], axis = 0)\n",
        "Exp_final = Exp_final.sort_index(ascending=True)\n",
        "Exp_final[Exp_final.iloc[[0]] < 0 ] = np.nan\n",
        "Exp_final[Exp_final.iloc[[-1]] > 0 ] = np.nan\n",
        "\n",
        "SP_buy = np.array(Exp_final['price_Buy_SP500'].dropna())\n",
        "SP_sold = np.array(Exp_final['price_Sell_SP500'].dropna())\n",
        "Gold_buy = np.array(Exp_final['price_Buy_Gold'].dropna())\n",
        "Gold_sold = np.array(Exp_final['price_Sell_Gold'].dropna())\n"
      ],
      "metadata": {
        "id": "EOZpJBEr4rqE"
      },
      "execution_count": null,
      "outputs": []
    },
    {
      "cell_type": "code",
      "source": [
        "Exp_final[Exp_final.iloc[[0]] < 0 ] = np.nan\n",
        "Exp_final[Exp_final.iloc[[-1]] > 0 ] = np.nan\n",
        "d1 = du_parse(str(Exp_final.index[0]))\n",
        "d2 = du_parse(str(Exp_final.index[-1]))\n",
        "delta = relativedelta(d2, d1)\n",
        "months = delta.years * 12 + delta.months\n",
        "\n",
        "Return_in_SP = sum(abs(SP_sold)/SP_buy - 1)\n",
        "Return_in_Gold = sum(abs(Gold_sold)/Gold_buy - 1)\n",
        "Portfolio_return = (Return_in_SP+Return_in_Gold)/months*12\n",
        "print('Portfolio annualized Return: ' + '%.2f' %(Portfolio_return*100) + ' %')"
      ],
      "metadata": {
        "colab": {
          "base_uri": "https://localhost:8080/"
        },
        "outputId": "a88e5a72-8e03-44d3-a6f9-753397af57f9",
        "id": "rAx_uzQ04rqE"
      },
      "execution_count": null,
      "outputs": [
        {
          "output_type": "stream",
          "name": "stdout",
          "text": [
            "Portfolio annualized Return: 15.33 %\n"
          ]
        }
      ]
    },
    {
      "cell_type": "code",
      "source": [
        "from fastquant import get_stock_data\n",
        "from fastquant import backtest\n",
        "\n",
        "backtest('buynhold', SP500)"
      ],
      "metadata": {
        "id": "b3P7m8_Oofn9"
      },
      "execution_count": null,
      "outputs": []
    },
    {
      "cell_type": "markdown",
      "source": [
        "# Построение графиков входа и выхода"
      ],
      "metadata": {
        "id": "DrPy45dN4rqE"
      }
    },
    {
      "cell_type": "code",
      "source": [
        "x = range(Final_df.shape[0])\n",
        "plt.figure(figsize=(20,10))\n",
        "\n",
        "point_in_for_Gold = Exp_final['price_Buy_Gold']\n",
        "point_out_for_Gold = abs(Exp_final['price_Sell_Gold'])\n",
        "\n",
        "plt.plot(Final_df['Gold_Close'], color='orange', label='Gold_Close')\n",
        "plt.scatter(Exp_final.index, point_in_for_Gold, label='price_Buy_Gold',color = 'green', marker = 'v',alpha = 1, s=150)\n",
        "plt.scatter(Exp_final.index, point_out_for_Gold, label='price_Sell_Gold',color = 'red', marker = 'v',alpha = 1, s=150)\n",
        "plt.title('Buy&Sell transactions')\n",
        "plt.xlabel('Date', fontsize = 20)\n",
        "plt.ylabel('Price', fontsize = 20)\n",
        "plt.legend(loc='upper left')\n",
        "plt.show()"
      ],
      "metadata": {
        "colab": {
          "base_uri": "https://localhost:8080/",
          "height": 630
        },
        "outputId": "f821c9df-6d1b-47c0-cc64-73cbf09c22c5",
        "id": "bCDCqVD94rqE"
      },
      "execution_count": null,
      "outputs": [
        {
          "output_type": "display_data",
          "data": {
            "text/plain": [
              "<Figure size 1440x720 with 1 Axes>"
            ],
            "image/png": "[encoded data removed]"
          },
          "metadata": {
            "needs_background": "light"
          }
        }
      ]
    },
    {
      "cell_type": "code",
      "source": [
        "x = range(Final_df.shape[0])\n",
        "plt.figure(figsize=(20,10))\n",
        "\n",
        "point_in_for_SP500 = Exp_final['price_Buy_SP500']\n",
        "point_out_for_SP500 = abs(Exp_final['price_Sell_SP500'])\n",
        "\n",
        "\n",
        "plt.plot(Final_df['SP500_Close'], color='blue', label='SP500_Close')\n",
        "plt.scatter(Exp_final.index, point_in_for_SP500, label='price_Buy_SP500', color = 'green', marker = '^', alpha = 1, s=150)\n",
        "plt.scatter(Exp_final.index, point_out_for_SP500, label='price_Sell_SP500',color = 'red', marker = 'v',alpha = 1, s=150)\n",
        "\n",
        "plt.title('Buy&Sell transactions')\n",
        "plt.xlabel('Date', fontsize = 20)\n",
        "plt.ylabel('Price', fontsize = 20)\n",
        "plt.legend(loc='upper left')\n",
        "plt.show()\n"
      ],
      "metadata": {
        "colab": {
          "base_uri": "https://localhost:8080/",
          "height": 630
        },
        "outputId": "b292d8cb-b813-401f-894d-c3d6c427a45e",
        "id": "ns0-pkkS4rqF"
      },
      "execution_count": null,
      "outputs": [
        {
          "output_type": "display_data",
          "data": {
            "text/plain": [
              "<Figure size 1440x720 with 1 Axes>"
            ],
            "image/png": "[encoded data removed]"
          },
          "metadata": {
            "needs_background": "light"
          }
        }
      ]
    }
  ]
}